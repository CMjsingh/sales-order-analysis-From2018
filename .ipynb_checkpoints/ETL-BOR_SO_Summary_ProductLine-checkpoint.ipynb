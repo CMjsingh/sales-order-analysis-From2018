{
 "cells": [
  {
   "cell_type": "markdown",
   "metadata": {},
   "source": [
    "# <span style='font-family:Georgia'> ETL Pipeline for Sales Order Data</span>\n",
    "\n",
    "\n",
    "#### <div style=\"text-align: right\"> Last Updated: 04/27/2021 </div>"
   ]
  },
  {
   "cell_type": "markdown",
   "metadata": {},
   "source": [
    "### <span style='font-family:serif'> This project contains the ETL (Extract-Tranform-Load) Pipeline performed on existed view table \"BOR_VW_SO_SUMMARY_BY_PRODUCT_LINE\" from *ExactMaxCaseMedical* database containing sales summary data.  <br><br>The data is taken from year 2018 onwards. </br></br></span>"
   ]
  },
  {
   "cell_type": "markdown",
   "metadata": {},
   "source": [
    "### Importing Required Libraries"
   ]
  },
  {
   "cell_type": "code",
   "execution_count": 1,
   "metadata": {},
   "outputs": [],
   "source": [
    "import pyodbc\n",
    "import sqlalchemy\n",
    "from sqlalchemy import create_engine\n",
    "import pandas as pd \n",
    "import numpy as np\n",
    "\n",
    "from pyzipcode import ZipCodeDatabase\n",
    "import pyzipcode\n",
    "\n",
    "import seaborn as sns\n",
    "import matplotlib as mpl\n",
    "import matplotlib.pyplot as plt\n",
    "\n",
    "#import plotly.plotly as py\n",
    "import plotly.offline as pyoff\n",
    "import plotly.graph_objs as go\n",
    "import plotly.express as px\n",
    "from plotly.subplots import make_subplots\n",
    "import plotly.graph_objects as go\n",
    "\n",
    "import matplotlib.pyplot as plt"
   ]
  },
  {
   "cell_type": "code",
   "execution_count": 2,
   "metadata": {},
   "outputs": [
    {
     "data": {
      "text/plain": [
       "'C:\\\\Users\\\\jsingh\\\\Desktop\\\\Work\\\\SalesOrderAnalytics\\\\sales-order-analysis-From2018'"
      ]
     },
     "execution_count": 2,
     "metadata": {},
     "output_type": "execute_result"
    }
   ],
   "source": [
    "pwd"
   ]
  },
  {
   "cell_type": "markdown",
   "metadata": {},
   "source": [
    "## EXTRACTION"
   ]
  },
  {
   "cell_type": "markdown",
   "metadata": {},
   "source": [
    "### SQL Database Connection"
   ]
  },
  {
   "cell_type": "code",
   "execution_count": 3,
   "metadata": {},
   "outputs": [
    {
     "data": {
      "text/plain": [
       "['SQL Server',\n",
       " 'ODBC Driver 17 for SQL Server',\n",
       " 'SQL Server Native Client 11.0',\n",
       " 'SQL Server Native Client RDA 11.0',\n",
       " 'Microsoft Access Driver (*.mdb, *.accdb)',\n",
       " 'Microsoft Excel Driver (*.xls, *.xlsx, *.xlsm, *.xlsb)',\n",
       " 'Microsoft Access Text Driver (*.txt, *.csv)']"
      ]
     },
     "execution_count": 3,
     "metadata": {},
     "output_type": "execute_result"
    }
   ],
   "source": [
    "pyodbc.drivers() #To check which all drivers are available"
   ]
  },
  {
   "cell_type": "code",
   "execution_count": 4,
   "metadata": {},
   "outputs": [],
   "source": [
    "#Creating database connection\n",
    "max_server ='SQLSERVERTEST'\n",
    "max_user ='sa'\n",
    "max_password = 'Twotbgrar2020!'\n",
    "max_db ='ExactMAXCaseMedical'"
   ]
  },
  {
   "cell_type": "code",
   "execution_count": 5,
   "metadata": {},
   "outputs": [],
   "source": [
    "mssql_driver = 'ODBC+Driver+17+for+SQL+Server'\n",
    "server = f'mssql+pyodbc://{max_user}:{max_password}@{max_server}/{max_db}?driver={mssql_driver}'\n",
    "engine = sqlalchemy.create_engine(server, echo=True)"
   ]
  },
  {
   "cell_type": "markdown",
   "metadata": {},
   "source": [
    "### Taking data from 2018 onwards"
   ]
  },
  {
   "cell_type": "code",
   "execution_count": 6,
   "metadata": {},
   "outputs": [
    {
     "name": "stdout",
     "output_type": "stream",
     "text": [
      "2021-05-03 11:14:47,375 INFO sqlalchemy.engine.Engine SELECT CAST(SERVERPROPERTY('ProductVersion') AS VARCHAR)\n",
      "2021-05-03 11:14:47,382 INFO sqlalchemy.engine.Engine [raw sql] ()\n",
      "2021-05-03 11:14:47,419 INFO sqlalchemy.engine.Engine SELECT schema_name()\n",
      "2021-05-03 11:14:47,420 INFO sqlalchemy.engine.Engine [generated in 0.00109s] ()\n",
      "2021-05-03 11:14:47,464 INFO sqlalchemy.engine.Engine SELECT CAST('test max support' AS NVARCHAR(max))\n",
      "2021-05-03 11:14:47,465 INFO sqlalchemy.engine.Engine [generated in 0.00082s] ()\n",
      "2021-05-03 11:14:47,508 INFO sqlalchemy.engine.Engine SELECT [INFORMATION_SCHEMA].[TABLES].[TABLE_NAME] \n",
      "FROM [INFORMATION_SCHEMA].[TABLES] \n",
      "WHERE [INFORMATION_SCHEMA].[TABLES].[TABLE_TYPE] = CAST(? AS NVARCHAR(max)) AND [INFORMATION_SCHEMA].[TABLES].[TABLE_NAME] = CAST(? AS NVARCHAR(max)) AND [INFORMATION_SCHEMA].[TABLES].[TABLE_SCHEMA] = CAST(? AS NVARCHAR(max))\n",
      "2021-05-03 11:14:47,509 INFO sqlalchemy.engine.Engine [generated in 0.00070s] ('BASE TABLE', \" \\nSELECT * ,CONCAT(MONTH(OrderDate), '-', YEAR(OrderDate)) as Date \\nFROM [ExactMAXCaseMedical].[dbo].[BOR_VW_2018_SO_Summary_By_ProdLine_JB]\\nWhere YEAR(OrderDate)>2017\\n\", 'dbo')\n",
      "2021-05-03 11:14:47,595 INFO sqlalchemy.engine.Engine  \n",
      "SELECT * ,CONCAT(MONTH(OrderDate), '-', YEAR(OrderDate)) as Date \n",
      "FROM [ExactMAXCaseMedical].[dbo].[BOR_VW_2018_SO_Summary_By_ProdLine_JB]\n",
      "Where YEAR(OrderDate)>2017\n",
      "\n",
      "2021-05-03 11:14:47,596 INFO sqlalchemy.engine.Engine [raw sql] ()\n"
     ]
    }
   ],
   "source": [
    "\n",
    "sql_query=''' \n",
    "SELECT * ,CONCAT(MONTH(OrderDate), '-', YEAR(OrderDate)) as Date \n",
    "FROM [ExactMAXCaseMedical].[dbo].[BOR_VW_2018_SO_Summary_By_ProdLine_JB]\n",
    "Where YEAR(OrderDate)>2017\n",
    "'''\n",
    "\n",
    "\n",
    "df= pd.read_sql(sql_query, engine)"
   ]
  },
  {
   "cell_type": "code",
   "execution_count": 7,
   "metadata": {},
   "outputs": [
    {
     "name": "stdout",
     "output_type": "stream",
     "text": [
      "2021-05-03 11:14:54,408 INFO sqlalchemy.engine.Engine SELECT [INFORMATION_SCHEMA].[TABLES].[TABLE_NAME] \n",
      "FROM [INFORMATION_SCHEMA].[TABLES] \n",
      "WHERE [INFORMATION_SCHEMA].[TABLES].[TABLE_TYPE] = CAST(? AS NVARCHAR(max)) AND [INFORMATION_SCHEMA].[TABLES].[TABLE_NAME] = CAST(? AS NVARCHAR(max)) AND [INFORMATION_SCHEMA].[TABLES].[TABLE_SCHEMA] = CAST(? AS NVARCHAR(max))\n",
      "2021-05-03 11:14:54,408 INFO sqlalchemy.engine.Engine [cached since 6.901s ago] ('BASE TABLE', \" \\nSELECT * ,CONCAT(MONTH(OrderDate), '-', YEAR(OrderDate)) as Date \\nFROM [ExactMAXCaseMedical].[dbo].[BOR_VW_2018_SO_Summary_By_ProdLine_JB]\\nWhere YEAR(OrderDate)>2017\\n\", 'dbo')\n",
      "2021-05-03 11:14:54,474 INFO sqlalchemy.engine.Engine  \n",
      "SELECT * ,CONCAT(MONTH(OrderDate), '-', YEAR(OrderDate)) as Date \n",
      "FROM [ExactMAXCaseMedical].[dbo].[BOR_VW_2018_SO_Summary_By_ProdLine_JB]\n",
      "Where YEAR(OrderDate)>2017\n",
      "\n",
      "2021-05-03 11:14:54,475 INFO sqlalchemy.engine.Engine [raw sql] ()\n"
     ]
    }
   ],
   "source": [
    "df= pd.read_sql(sql_query, engine)"
   ]
  },
  {
   "cell_type": "code",
   "execution_count": 8,
   "metadata": {},
   "outputs": [
    {
     "data": {
      "text/html": [
       "<div>\n",
       "<style scoped>\n",
       "    .dataframe tbody tr th:only-of-type {\n",
       "        vertical-align: middle;\n",
       "    }\n",
       "\n",
       "    .dataframe tbody tr th {\n",
       "        vertical-align: top;\n",
       "    }\n",
       "\n",
       "    .dataframe thead th {\n",
       "        text-align: right;\n",
       "    }\n",
       "</style>\n",
       "<table border=\"1\" class=\"dataframe\">\n",
       "  <thead>\n",
       "    <tr style=\"text-align: right;\">\n",
       "      <th></th>\n",
       "      <th>Bill_To_CustomerID</th>\n",
       "      <th>Bill_To_CustomerName</th>\n",
       "      <th>Bill_To_Address_1</th>\n",
       "      <th>Bill_To_Address_2</th>\n",
       "      <th>Bill_To_City</th>\n",
       "      <th>Bill_To_State</th>\n",
       "      <th>Bill_To_ZipCode</th>\n",
       "      <th>Customer_Category</th>\n",
       "      <th>OrderNumber</th>\n",
       "      <th>Customer_PO_Number</th>\n",
       "      <th>...</th>\n",
       "      <th>Bill_To_Country</th>\n",
       "      <th>TransactionType</th>\n",
       "      <th>Quater</th>\n",
       "      <th>Q2_ProdGoalCategory</th>\n",
       "      <th>Q1_ProdGoalCategory</th>\n",
       "      <th>IDN</th>\n",
       "      <th>POConfirmEmail</th>\n",
       "      <th>POConfirmEmailError</th>\n",
       "      <th>Hospital_Type</th>\n",
       "      <th>Date</th>\n",
       "    </tr>\n",
       "  </thead>\n",
       "  <tbody>\n",
       "    <tr>\n",
       "      <th>0</th>\n",
       "      <td>ZH02HOAG0092663</td>\n",
       "      <td>Hoag  Hospital                                ...</td>\n",
       "      <td>Attn:Accounts Payable                         ...</td>\n",
       "      <td>500 Superior Avenue, Suite 200                ...</td>\n",
       "      <td>Newport Beach</td>\n",
       "      <td>CA</td>\n",
       "      <td>92663</td>\n",
       "      <td>Premier                                       ...</td>\n",
       "      <td>20129256</td>\n",
       "      <td>1423878</td>\n",
       "      <td>...</td>\n",
       "      <td>USA</td>\n",
       "      <td>CU</td>\n",
       "      <td>Q1</td>\n",
       "      <td>None</td>\n",
       "      <td>None</td>\n",
       "      <td>None</td>\n",
       "      <td>kally.gale@hoag.org                           ...</td>\n",
       "      <td>NoError</td>\n",
       "      <td>None</td>\n",
       "      <td>1-2018</td>\n",
       "    </tr>\n",
       "    <tr>\n",
       "      <th>1</th>\n",
       "      <td>ZA03ATLA0060606</td>\n",
       "      <td>Atlanta Eye Surgery Center                    ...</td>\n",
       "      <td>C/O Surgery Partners                          ...</td>\n",
       "      <td>PO BOX 2248                                   ...</td>\n",
       "      <td>Brentwood</td>\n",
       "      <td>TN</td>\n",
       "      <td>37024</td>\n",
       "      <td>HealthTrust                                   ...</td>\n",
       "      <td>20129257</td>\n",
       "      <td>401095</td>\n",
       "      <td>...</td>\n",
       "      <td>USA</td>\n",
       "      <td>CU</td>\n",
       "      <td>Q1</td>\n",
       "      <td>None</td>\n",
       "      <td>None</td>\n",
       "      <td>None</td>\n",
       "      <td>egriffin@surgerypartners.com                  ...</td>\n",
       "      <td>NoError</td>\n",
       "      <td>None</td>\n",
       "      <td>1-2018</td>\n",
       "    </tr>\n",
       "    <tr>\n",
       "      <th>2</th>\n",
       "      <td>ZA03ATLA0060606</td>\n",
       "      <td>Atlanta Eye Surgery Center                    ...</td>\n",
       "      <td>C/O Surgery Partners                          ...</td>\n",
       "      <td>PO BOX 2248                                   ...</td>\n",
       "      <td>Brentwood</td>\n",
       "      <td>TN</td>\n",
       "      <td>37024</td>\n",
       "      <td>HealthTrust                                   ...</td>\n",
       "      <td>20129257</td>\n",
       "      <td>401095</td>\n",
       "      <td>...</td>\n",
       "      <td>USA</td>\n",
       "      <td>CU</td>\n",
       "      <td>Q1</td>\n",
       "      <td>None</td>\n",
       "      <td>None</td>\n",
       "      <td>None</td>\n",
       "      <td>egriffin@surgerypartners.com                  ...</td>\n",
       "      <td>NoError</td>\n",
       "      <td>None</td>\n",
       "      <td>1-2018</td>\n",
       "    </tr>\n",
       "    <tr>\n",
       "      <th>3</th>\n",
       "      <td>ZH01FRAN0054601</td>\n",
       "      <td>Mayo Clinic Procure to pay                    ...</td>\n",
       "      <td>Department 10000                              ...</td>\n",
       "      <td>200 First Street SW                           ...</td>\n",
       "      <td>Rochester</td>\n",
       "      <td>MN</td>\n",
       "      <td>55905</td>\n",
       "      <td>Novation                                      ...</td>\n",
       "      <td>20129258</td>\n",
       "      <td>65696057</td>\n",
       "      <td>...</td>\n",
       "      <td>USA</td>\n",
       "      <td>CU</td>\n",
       "      <td>Q1</td>\n",
       "      <td>None</td>\n",
       "      <td>None</td>\n",
       "      <td>None</td>\n",
       "      <td>orderconfirmations@mayo.edu                   ...</td>\n",
       "      <td>NoError</td>\n",
       "      <td>None</td>\n",
       "      <td>1-2018</td>\n",
       "    </tr>\n",
       "    <tr>\n",
       "      <th>4</th>\n",
       "      <td>ZS10OWEN0023285</td>\n",
       "      <td>Owens &amp; Minor                                 ...</td>\n",
       "      <td>Attn: Accounts Payable                        ...</td>\n",
       "      <td>P.O. Box 85007                                ...</td>\n",
       "      <td>Richmond</td>\n",
       "      <td>VA</td>\n",
       "      <td>23285-5007</td>\n",
       "      <td>Distributor                                   ...</td>\n",
       "      <td>20129259</td>\n",
       "      <td>37168</td>\n",
       "      <td>...</td>\n",
       "      <td>USA</td>\n",
       "      <td>CU</td>\n",
       "      <td>Q1</td>\n",
       "      <td>None</td>\n",
       "      <td>None</td>\n",
       "      <td>None</td>\n",
       "      <td>sborade@casemed.com                           ...</td>\n",
       "      <td>NoError</td>\n",
       "      <td>None</td>\n",
       "      <td>1-2018</td>\n",
       "    </tr>\n",
       "  </tbody>\n",
       "</table>\n",
       "<p>5 rows × 53 columns</p>\n",
       "</div>"
      ],
      "text/plain": [
       "     Bill_To_CustomerID                               Bill_To_CustomerName  \\\n",
       "0  ZH02HOAG0092663       Hoag  Hospital                                ...   \n",
       "1  ZA03ATLA0060606       Atlanta Eye Surgery Center                    ...   \n",
       "2  ZA03ATLA0060606       Atlanta Eye Surgery Center                    ...   \n",
       "3  ZH01FRAN0054601       Mayo Clinic Procure to pay                    ...   \n",
       "4  ZS10OWEN0023285       Owens & Minor                                 ...   \n",
       "\n",
       "                                   Bill_To_Address_1  \\\n",
       "0  Attn:Accounts Payable                         ...   \n",
       "1  C/O Surgery Partners                          ...   \n",
       "2  C/O Surgery Partners                          ...   \n",
       "3  Department 10000                              ...   \n",
       "4  Attn: Accounts Payable                        ...   \n",
       "\n",
       "                                   Bill_To_Address_2  \\\n",
       "0  500 Superior Avenue, Suite 200                ...   \n",
       "1  PO BOX 2248                                   ...   \n",
       "2  PO BOX 2248                                   ...   \n",
       "3  200 First Street SW                           ...   \n",
       "4  P.O. Box 85007                                ...   \n",
       "\n",
       "                     Bill_To_City                   Bill_To_State  \\\n",
       "0  Newport Beach                   CA                               \n",
       "1  Brentwood                       TN                               \n",
       "2  Brentwood                       TN                               \n",
       "3  Rochester                       MN                               \n",
       "4  Richmond                        VA                               \n",
       "\n",
       "                  Bill_To_ZipCode  \\\n",
       "0  92663                            \n",
       "1  37024                            \n",
       "2  37024                            \n",
       "3  55905                            \n",
       "4  23285-5007                       \n",
       "\n",
       "                                   Customer_Category OrderNumber  \\\n",
       "0  Premier                                       ...    20129256   \n",
       "1  HealthTrust                                   ...    20129257   \n",
       "2  HealthTrust                                   ...    20129257   \n",
       "3  Novation                                      ...    20129258   \n",
       "4  Distributor                                   ...    20129259   \n",
       "\n",
       "          Customer_PO_Number  ...                 Bill_To_Country  \\\n",
       "0  1423878                    ...  USA                              \n",
       "1  401095                     ...  USA                              \n",
       "2  401095                     ...  USA                              \n",
       "3  65696057                   ...  USA                              \n",
       "4  37168                      ...  USA                              \n",
       "\n",
       "  TransactionType Quater Q2_ProdGoalCategory Q1_ProdGoalCategory   IDN  \\\n",
       "0              CU     Q1                None                None  None   \n",
       "1              CU     Q1                None                None  None   \n",
       "2              CU     Q1                None                None  None   \n",
       "3              CU     Q1                None                None  None   \n",
       "4              CU     Q1                None                None  None   \n",
       "\n",
       "                                      POConfirmEmail POConfirmEmailError  \\\n",
       "0  kally.gale@hoag.org                           ...             NoError   \n",
       "1  egriffin@surgerypartners.com                  ...             NoError   \n",
       "2  egriffin@surgerypartners.com                  ...             NoError   \n",
       "3  orderconfirmations@mayo.edu                   ...             NoError   \n",
       "4  sborade@casemed.com                           ...             NoError   \n",
       "\n",
       "  Hospital_Type    Date  \n",
       "0          None  1-2018  \n",
       "1          None  1-2018  \n",
       "2          None  1-2018  \n",
       "3          None  1-2018  \n",
       "4          None  1-2018  \n",
       "\n",
       "[5 rows x 53 columns]"
      ]
     },
     "execution_count": 8,
     "metadata": {},
     "output_type": "execute_result"
    }
   ],
   "source": [
    "df.head()"
   ]
  },
  {
   "cell_type": "code",
   "execution_count": 9,
   "metadata": {},
   "outputs": [
    {
     "data": {
      "text/plain": [
       "(66810, 53)"
      ]
     },
     "execution_count": 9,
     "metadata": {},
     "output_type": "execute_result"
    }
   ],
   "source": [
    "df.shape"
   ]
  },
  {
   "cell_type": "markdown",
   "metadata": {},
   "source": [
    "## DATA CLEANING / DATA TRANSFORMATION"
   ]
  },
  {
   "cell_type": "code",
   "execution_count": 10,
   "metadata": {},
   "outputs": [],
   "source": [
    "df['Date']=pd.to_datetime(df['Date'])    "
   ]
  },
  {
   "cell_type": "code",
   "execution_count": 11,
   "metadata": {},
   "outputs": [],
   "source": [
    "#Removing Leading and Lagging whitespaces from the 'object' type columns\n",
    "\n",
    "cols= df.select_dtypes(['object']).columns\n",
    "df[cols]=df[cols].apply(lambda x: x.str.strip())"
   ]
  },
  {
   "cell_type": "code",
   "execution_count": 12,
   "metadata": {},
   "outputs": [
    {
     "name": "stdout",
     "output_type": "stream",
     "text": [
      "Data shape: (66810, 53)\n",
      "___________________________\n",
      "Data types:\n",
      "object            44\n",
      "float64            7\n",
      "datetime64[ns]     2\n",
      "Name: types, dtype: int64\n",
      "___________________________\n"
     ]
    },
    {
     "data": {
      "text/html": [
       "<div>\n",
       "<style scoped>\n",
       "    .dataframe tbody tr th:only-of-type {\n",
       "        vertical-align: middle;\n",
       "    }\n",
       "\n",
       "    .dataframe tbody tr th {\n",
       "        vertical-align: top;\n",
       "    }\n",
       "\n",
       "    .dataframe thead th {\n",
       "        text-align: right;\n",
       "    }\n",
       "</style>\n",
       "<table border=\"1\" class=\"dataframe\">\n",
       "  <thead>\n",
       "    <tr style=\"text-align: right;\">\n",
       "      <th></th>\n",
       "      <th>types</th>\n",
       "      <th>counts</th>\n",
       "      <th>uniques</th>\n",
       "      <th>nulls</th>\n",
       "      <th>min</th>\n",
       "    </tr>\n",
       "  </thead>\n",
       "  <tbody>\n",
       "    <tr>\n",
       "      <th>Q3_ProdGoalCategory</th>\n",
       "      <td>object</td>\n",
       "      <td>3361</td>\n",
       "      <td>7</td>\n",
       "      <td>63449</td>\n",
       "      <td>NaN</td>\n",
       "    </tr>\n",
       "    <tr>\n",
       "      <th>Q2_ProdGoalCategory</th>\n",
       "      <td>object</td>\n",
       "      <td>5077</td>\n",
       "      <td>8</td>\n",
       "      <td>61733</td>\n",
       "      <td>NaN</td>\n",
       "    </tr>\n",
       "    <tr>\n",
       "      <th>Q1_ProdGoalCategory</th>\n",
       "      <td>object</td>\n",
       "      <td>5284</td>\n",
       "      <td>11</td>\n",
       "      <td>61526</td>\n",
       "      <td>NaN</td>\n",
       "    </tr>\n",
       "    <tr>\n",
       "      <th>IDN</th>\n",
       "      <td>object</td>\n",
       "      <td>32560</td>\n",
       "      <td>366</td>\n",
       "      <td>34250</td>\n",
       "      <td>NaN</td>\n",
       "    </tr>\n",
       "    <tr>\n",
       "      <th>RepSalesAdmin</th>\n",
       "      <td>object</td>\n",
       "      <td>36896</td>\n",
       "      <td>5</td>\n",
       "      <td>29914</td>\n",
       "      <td>NaN</td>\n",
       "    </tr>\n",
       "    <tr>\n",
       "      <th>Hospital_Type</th>\n",
       "      <td>object</td>\n",
       "      <td>38779</td>\n",
       "      <td>3</td>\n",
       "      <td>28031</td>\n",
       "      <td>NaN</td>\n",
       "    </tr>\n",
       "    <tr>\n",
       "      <th>RepClinicalSpecialist</th>\n",
       "      <td>object</td>\n",
       "      <td>39898</td>\n",
       "      <td>5</td>\n",
       "      <td>26912</td>\n",
       "      <td>NaN</td>\n",
       "    </tr>\n",
       "    <tr>\n",
       "      <th>RepInsideSalesAssistant</th>\n",
       "      <td>float64</td>\n",
       "      <td>46401</td>\n",
       "      <td>6</td>\n",
       "      <td>20409</td>\n",
       "      <td>0</td>\n",
       "    </tr>\n",
       "    <tr>\n",
       "      <th>REPSTATUS</th>\n",
       "      <td>object</td>\n",
       "      <td>46401</td>\n",
       "      <td>3</td>\n",
       "      <td>20409</td>\n",
       "      <td>NaN</td>\n",
       "    </tr>\n",
       "    <tr>\n",
       "      <th>RepManager</th>\n",
       "      <td>float64</td>\n",
       "      <td>46401</td>\n",
       "      <td>10</td>\n",
       "      <td>20409</td>\n",
       "      <td>0</td>\n",
       "    </tr>\n",
       "    <tr>\n",
       "      <th>RepName</th>\n",
       "      <td>object</td>\n",
       "      <td>46401</td>\n",
       "      <td>64</td>\n",
       "      <td>20409</td>\n",
       "      <td>NaN</td>\n",
       "    </tr>\n",
       "    <tr>\n",
       "      <th>SynRepID</th>\n",
       "      <td>float64</td>\n",
       "      <td>46401</td>\n",
       "      <td>64</td>\n",
       "      <td>20409</td>\n",
       "      <td>1</td>\n",
       "    </tr>\n",
       "    <tr>\n",
       "      <th>POConfirmEmail</th>\n",
       "      <td>object</td>\n",
       "      <td>53761</td>\n",
       "      <td>5055</td>\n",
       "      <td>13049</td>\n",
       "      <td>NaN</td>\n",
       "    </tr>\n",
       "    <tr>\n",
       "      <th>RegionalManager</th>\n",
       "      <td>object</td>\n",
       "      <td>63844</td>\n",
       "      <td>7</td>\n",
       "      <td>2966</td>\n",
       "      <td>NaN</td>\n",
       "    </tr>\n",
       "    <tr>\n",
       "      <th>TerrRep</th>\n",
       "      <td>object</td>\n",
       "      <td>63847</td>\n",
       "      <td>20</td>\n",
       "      <td>2963</td>\n",
       "      <td>NaN</td>\n",
       "    </tr>\n",
       "    <tr>\n",
       "      <th>CostConversion</th>\n",
       "      <td>float64</td>\n",
       "      <td>66640</td>\n",
       "      <td>2</td>\n",
       "      <td>170</td>\n",
       "      <td>1</td>\n",
       "    </tr>\n",
       "    <tr>\n",
       "      <th>UOM</th>\n",
       "      <td>object</td>\n",
       "      <td>66640</td>\n",
       "      <td>7</td>\n",
       "      <td>170</td>\n",
       "      <td>NaN</td>\n",
       "    </tr>\n",
       "    <tr>\n",
       "      <th>Part_Description</th>\n",
       "      <td>object</td>\n",
       "      <td>66640</td>\n",
       "      <td>1195</td>\n",
       "      <td>170</td>\n",
       "      <td>NaN</td>\n",
       "    </tr>\n",
       "    <tr>\n",
       "      <th>Customer_Category</th>\n",
       "      <td>object</td>\n",
       "      <td>66660</td>\n",
       "      <td>24</td>\n",
       "      <td>150</td>\n",
       "      <td>NaN</td>\n",
       "    </tr>\n",
       "    <tr>\n",
       "      <th>PartNumber</th>\n",
       "      <td>object</td>\n",
       "      <td>66734</td>\n",
       "      <td>1627</td>\n",
       "      <td>76</td>\n",
       "      <td>NaN</td>\n",
       "    </tr>\n",
       "    <tr>\n",
       "      <th>SubTotal</th>\n",
       "      <td>float64</td>\n",
       "      <td>66734</td>\n",
       "      <td>10560</td>\n",
       "      <td>76</td>\n",
       "      <td>-24061</td>\n",
       "    </tr>\n",
       "    <tr>\n",
       "      <th>UnitPrice</th>\n",
       "      <td>float64</td>\n",
       "      <td>66734</td>\n",
       "      <td>3608</td>\n",
       "      <td>76</td>\n",
       "      <td>0</td>\n",
       "    </tr>\n",
       "    <tr>\n",
       "      <th>OrderQty</th>\n",
       "      <td>float64</td>\n",
       "      <td>66734</td>\n",
       "      <td>390</td>\n",
       "      <td>76</td>\n",
       "      <td>0.01</td>\n",
       "    </tr>\n",
       "    <tr>\n",
       "      <th>POConfirmEmailError</th>\n",
       "      <td>object</td>\n",
       "      <td>66810</td>\n",
       "      <td>2</td>\n",
       "      <td>0</td>\n",
       "      <td>EmailError</td>\n",
       "    </tr>\n",
       "    <tr>\n",
       "      <th>Ship_To_Address_1</th>\n",
       "      <td>object</td>\n",
       "      <td>66810</td>\n",
       "      <td>3900</td>\n",
       "      <td>0</td>\n",
       "      <td></td>\n",
       "    </tr>\n",
       "    <tr>\n",
       "      <th>Bill_To_City</th>\n",
       "      <td>object</td>\n",
       "      <td>66810</td>\n",
       "      <td>983</td>\n",
       "      <td>0</td>\n",
       "      <td></td>\n",
       "    </tr>\n",
       "    <tr>\n",
       "      <th>UDFKEY_23</th>\n",
       "      <td>object</td>\n",
       "      <td>66810</td>\n",
       "      <td>2277</td>\n",
       "      <td>0</td>\n",
       "      <td></td>\n",
       "    </tr>\n",
       "    <tr>\n",
       "      <th>TransactionType</th>\n",
       "      <td>object</td>\n",
       "      <td>66810</td>\n",
       "      <td>2</td>\n",
       "      <td>0</td>\n",
       "      <td>CR</td>\n",
       "    </tr>\n",
       "    <tr>\n",
       "      <th>Bill_To_Country</th>\n",
       "      <td>object</td>\n",
       "      <td>66810</td>\n",
       "      <td>34</td>\n",
       "      <td>0</td>\n",
       "      <td></td>\n",
       "    </tr>\n",
       "    <tr>\n",
       "      <th>Terr3zip</th>\n",
       "      <td>object</td>\n",
       "      <td>66810</td>\n",
       "      <td>734</td>\n",
       "      <td>0</td>\n",
       "      <td></td>\n",
       "    </tr>\n",
       "    <tr>\n",
       "      <th>Bill_To_CustomerID</th>\n",
       "      <td>object</td>\n",
       "      <td>66810</td>\n",
       "      <td>2507</td>\n",
       "      <td>0</td>\n",
       "      <td>AB448</td>\n",
       "    </tr>\n",
       "    <tr>\n",
       "      <th>Bill_To_CustomerName</th>\n",
       "      <td>object</td>\n",
       "      <td>66810</td>\n",
       "      <td>1975</td>\n",
       "      <td>0</td>\n",
       "      <td>088-UHS OF DELAWARE INC</td>\n",
       "    </tr>\n",
       "    <tr>\n",
       "      <th>Ship_To_Zipcode</th>\n",
       "      <td>object</td>\n",
       "      <td>66810</td>\n",
       "      <td>2396</td>\n",
       "      <td>0</td>\n",
       "      <td></td>\n",
       "    </tr>\n",
       "    <tr>\n",
       "      <th>Ship_To_State</th>\n",
       "      <td>object</td>\n",
       "      <td>66810</td>\n",
       "      <td>100</td>\n",
       "      <td>0</td>\n",
       "      <td></td>\n",
       "    </tr>\n",
       "    <tr>\n",
       "      <th>Ship_To_CustomerName</th>\n",
       "      <td>object</td>\n",
       "      <td>66810</td>\n",
       "      <td>4129</td>\n",
       "      <td>0</td>\n",
       "      <td>(VAMC ROSEBURG)</td>\n",
       "    </tr>\n",
       "    <tr>\n",
       "      <th>Ship_To_Country</th>\n",
       "      <td>object</td>\n",
       "      <td>66810</td>\n",
       "      <td>50</td>\n",
       "      <td>0</td>\n",
       "      <td></td>\n",
       "    </tr>\n",
       "    <tr>\n",
       "      <th>Ship_To_City</th>\n",
       "      <td>object</td>\n",
       "      <td>66810</td>\n",
       "      <td>1634</td>\n",
       "      <td>0</td>\n",
       "      <td></td>\n",
       "    </tr>\n",
       "    <tr>\n",
       "      <th>Ship_To_Address_2</th>\n",
       "      <td>object</td>\n",
       "      <td>66810</td>\n",
       "      <td>3216</td>\n",
       "      <td>0</td>\n",
       "      <td></td>\n",
       "    </tr>\n",
       "    <tr>\n",
       "      <th>Rep_ID</th>\n",
       "      <td>object</td>\n",
       "      <td>66810</td>\n",
       "      <td>71</td>\n",
       "      <td>0</td>\n",
       "      <td></td>\n",
       "    </tr>\n",
       "    <tr>\n",
       "      <th>Order_Status</th>\n",
       "      <td>object</td>\n",
       "      <td>66810</td>\n",
       "      <td>2</td>\n",
       "      <td>0</td>\n",
       "      <td>3</td>\n",
       "    </tr>\n",
       "    <tr>\n",
       "      <th>Bill_To_State</th>\n",
       "      <td>object</td>\n",
       "      <td>66810</td>\n",
       "      <td>86</td>\n",
       "      <td>0</td>\n",
       "      <td></td>\n",
       "    </tr>\n",
       "    <tr>\n",
       "      <th>Bill_To_ZipCode</th>\n",
       "      <td>object</td>\n",
       "      <td>66810</td>\n",
       "      <td>1472</td>\n",
       "      <td>0</td>\n",
       "      <td></td>\n",
       "    </tr>\n",
       "    <tr>\n",
       "      <th>Customer_PO_Number</th>\n",
       "      <td>object</td>\n",
       "      <td>66810</td>\n",
       "      <td>32643</td>\n",
       "      <td>0</td>\n",
       "      <td></td>\n",
       "    </tr>\n",
       "    <tr>\n",
       "      <th>Date</th>\n",
       "      <td>datetime64[ns]</td>\n",
       "      <td>66810</td>\n",
       "      <td>40</td>\n",
       "      <td>0</td>\n",
       "      <td>2018-01-01 00:00:00</td>\n",
       "    </tr>\n",
       "    <tr>\n",
       "      <th>Facility_ID</th>\n",
       "      <td>object</td>\n",
       "      <td>66810</td>\n",
       "      <td>2995</td>\n",
       "      <td>0</td>\n",
       "      <td></td>\n",
       "    </tr>\n",
       "    <tr>\n",
       "      <th>GPO_Member_ID</th>\n",
       "      <td>object</td>\n",
       "      <td>66810</td>\n",
       "      <td>732</td>\n",
       "      <td>0</td>\n",
       "      <td></td>\n",
       "    </tr>\n",
       "    <tr>\n",
       "      <th>OrderDate</th>\n",
       "      <td>datetime64[ns]</td>\n",
       "      <td>66810</td>\n",
       "      <td>853</td>\n",
       "      <td>0</td>\n",
       "      <td>2018-01-02 00:00:00</td>\n",
       "    </tr>\n",
       "    <tr>\n",
       "      <th>Quater</th>\n",
       "      <td>object</td>\n",
       "      <td>66810</td>\n",
       "      <td>4</td>\n",
       "      <td>0</td>\n",
       "      <td>Q1</td>\n",
       "    </tr>\n",
       "    <tr>\n",
       "      <th>OrderNumber</th>\n",
       "      <td>object</td>\n",
       "      <td>66810</td>\n",
       "      <td>37639</td>\n",
       "      <td>0</td>\n",
       "      <td>20129256</td>\n",
       "    </tr>\n",
       "    <tr>\n",
       "      <th>Bill_To_Address_2</th>\n",
       "      <td>object</td>\n",
       "      <td>66810</td>\n",
       "      <td>810</td>\n",
       "      <td>0</td>\n",
       "      <td></td>\n",
       "    </tr>\n",
       "    <tr>\n",
       "      <th>Product_Line</th>\n",
       "      <td>object</td>\n",
       "      <td>66810</td>\n",
       "      <td>5</td>\n",
       "      <td>0</td>\n",
       "      <td>CT360</td>\n",
       "    </tr>\n",
       "    <tr>\n",
       "      <th>Price_List</th>\n",
       "      <td>object</td>\n",
       "      <td>66810</td>\n",
       "      <td>44</td>\n",
       "      <td>0</td>\n",
       "      <td></td>\n",
       "    </tr>\n",
       "    <tr>\n",
       "      <th>Bill_To_Address_1</th>\n",
       "      <td>object</td>\n",
       "      <td>66810</td>\n",
       "      <td>1740</td>\n",
       "      <td>0</td>\n",
       "      <td></td>\n",
       "    </tr>\n",
       "  </tbody>\n",
       "</table>\n",
       "</div>"
      ],
      "text/plain": [
       "                                  types  counts  uniques  nulls  \\\n",
       "Q3_ProdGoalCategory              object    3361        7  63449   \n",
       "Q2_ProdGoalCategory              object    5077        8  61733   \n",
       "Q1_ProdGoalCategory              object    5284       11  61526   \n",
       "IDN                              object   32560      366  34250   \n",
       "RepSalesAdmin                    object   36896        5  29914   \n",
       "Hospital_Type                    object   38779        3  28031   \n",
       "RepClinicalSpecialist            object   39898        5  26912   \n",
       "RepInsideSalesAssistant         float64   46401        6  20409   \n",
       "REPSTATUS                        object   46401        3  20409   \n",
       "RepManager                      float64   46401       10  20409   \n",
       "RepName                          object   46401       64  20409   \n",
       "SynRepID                        float64   46401       64  20409   \n",
       "POConfirmEmail                   object   53761     5055  13049   \n",
       "RegionalManager                  object   63844        7   2966   \n",
       "TerrRep                          object   63847       20   2963   \n",
       "CostConversion                  float64   66640        2    170   \n",
       "UOM                              object   66640        7    170   \n",
       "Part_Description                 object   66640     1195    170   \n",
       "Customer_Category                object   66660       24    150   \n",
       "PartNumber                       object   66734     1627     76   \n",
       "SubTotal                        float64   66734    10560     76   \n",
       "UnitPrice                       float64   66734     3608     76   \n",
       "OrderQty                        float64   66734      390     76   \n",
       "POConfirmEmailError              object   66810        2      0   \n",
       "Ship_To_Address_1                object   66810     3900      0   \n",
       "Bill_To_City                     object   66810      983      0   \n",
       "UDFKEY_23                        object   66810     2277      0   \n",
       "TransactionType                  object   66810        2      0   \n",
       "Bill_To_Country                  object   66810       34      0   \n",
       "Terr3zip                         object   66810      734      0   \n",
       "Bill_To_CustomerID               object   66810     2507      0   \n",
       "Bill_To_CustomerName             object   66810     1975      0   \n",
       "Ship_To_Zipcode                  object   66810     2396      0   \n",
       "Ship_To_State                    object   66810      100      0   \n",
       "Ship_To_CustomerName             object   66810     4129      0   \n",
       "Ship_To_Country                  object   66810       50      0   \n",
       "Ship_To_City                     object   66810     1634      0   \n",
       "Ship_To_Address_2                object   66810     3216      0   \n",
       "Rep_ID                           object   66810       71      0   \n",
       "Order_Status                     object   66810        2      0   \n",
       "Bill_To_State                    object   66810       86      0   \n",
       "Bill_To_ZipCode                  object   66810     1472      0   \n",
       "Customer_PO_Number               object   66810    32643      0   \n",
       "Date                     datetime64[ns]   66810       40      0   \n",
       "Facility_ID                      object   66810     2995      0   \n",
       "GPO_Member_ID                    object   66810      732      0   \n",
       "OrderDate                datetime64[ns]   66810      853      0   \n",
       "Quater                           object   66810        4      0   \n",
       "OrderNumber                      object   66810    37639      0   \n",
       "Bill_To_Address_2                object   66810      810      0   \n",
       "Product_Line                     object   66810        5      0   \n",
       "Price_List                       object   66810       44      0   \n",
       "Bill_To_Address_1                object   66810     1740      0   \n",
       "\n",
       "                                             min  \n",
       "Q3_ProdGoalCategory                          NaN  \n",
       "Q2_ProdGoalCategory                          NaN  \n",
       "Q1_ProdGoalCategory                          NaN  \n",
       "IDN                                          NaN  \n",
       "RepSalesAdmin                                NaN  \n",
       "Hospital_Type                                NaN  \n",
       "RepClinicalSpecialist                        NaN  \n",
       "RepInsideSalesAssistant                        0  \n",
       "REPSTATUS                                    NaN  \n",
       "RepManager                                     0  \n",
       "RepName                                      NaN  \n",
       "SynRepID                                       1  \n",
       "POConfirmEmail                               NaN  \n",
       "RegionalManager                              NaN  \n",
       "TerrRep                                      NaN  \n",
       "CostConversion                                 1  \n",
       "UOM                                          NaN  \n",
       "Part_Description                             NaN  \n",
       "Customer_Category                            NaN  \n",
       "PartNumber                                   NaN  \n",
       "SubTotal                                  -24061  \n",
       "UnitPrice                                      0  \n",
       "OrderQty                                    0.01  \n",
       "POConfirmEmailError                   EmailError  \n",
       "Ship_To_Address_1                                 \n",
       "Bill_To_City                                      \n",
       "UDFKEY_23                                         \n",
       "TransactionType                               CR  \n",
       "Bill_To_Country                                   \n",
       "Terr3zip                                          \n",
       "Bill_To_CustomerID                         AB448  \n",
       "Bill_To_CustomerName     088-UHS OF DELAWARE INC  \n",
       "Ship_To_Zipcode                                   \n",
       "Ship_To_State                                     \n",
       "Ship_To_CustomerName             (VAMC ROSEBURG)  \n",
       "Ship_To_Country                                   \n",
       "Ship_To_City                                      \n",
       "Ship_To_Address_2                                 \n",
       "Rep_ID                                            \n",
       "Order_Status                                   3  \n",
       "Bill_To_State                                     \n",
       "Bill_To_ZipCode                                   \n",
       "Customer_PO_Number                                \n",
       "Date                         2018-01-01 00:00:00  \n",
       "Facility_ID                                       \n",
       "GPO_Member_ID                                     \n",
       "OrderDate                    2018-01-02 00:00:00  \n",
       "Quater                                        Q1  \n",
       "OrderNumber                             20129256  \n",
       "Bill_To_Address_2                                 \n",
       "Product_Line                               CT360  \n",
       "Price_List                                        \n",
       "Bill_To_Address_1                                 "
      ]
     },
     "metadata": {},
     "output_type": "display_data"
    }
   ],
   "source": [
    "def summary(df, pred=None):\n",
    "  obs = df.shape[0] \n",
    "  types = df.dtypes\n",
    "  counts = df.apply(lambda x: x.count())\n",
    "  min = df.min()\n",
    "  uniques = df.apply(lambda x: x.unique().shape[0])\n",
    "  nulls = df.apply(lambda x: x.isnull().sum())\n",
    "  print('Data shape:', df.shape)\n",
    "\n",
    "  if pred is None:\n",
    "        cols = ['types', 'counts', 'uniques', 'nulls', 'min']\n",
    "        str = pd.concat([types, counts, uniques, nulls, min], axis = 1, sort=True)\n",
    "\n",
    "  str.columns = cols\n",
    "  dtypes = str.types.value_counts()\n",
    "  print('___________________________\\nData types:')\n",
    "  print(str.types.value_counts())\n",
    "  print('___________________________')\n",
    "  return str\n",
    "\n",
    "details = summary(df)\n",
    "display(details.sort_values(by='nulls', ascending=False))"
   ]
  },
  {
   "cell_type": "markdown",
   "metadata": {},
   "source": [
    "From the above you can see there are no null valuesin columns like bill_to,ship_to etc but,it contains empty string values which didn't get detected.\n",
    "So, we will replace the blank (' ') values with the NaN values."
   ]
  },
  {
   "cell_type": "code",
   "execution_count": 13,
   "metadata": {},
   "outputs": [],
   "source": [
    " df.replace('', np.nan, inplace=True) "
   ]
  },
  {
   "cell_type": "code",
   "execution_count": 14,
   "metadata": {},
   "outputs": [
    {
     "name": "stdout",
     "output_type": "stream",
     "text": [
      "Data shape: (66810, 53)\n",
      "___________________________\n",
      "Data types:\n",
      "object            44\n",
      "float64            7\n",
      "datetime64[ns]     2\n",
      "Name: types, dtype: int64\n",
      "___________________________\n"
     ]
    },
    {
     "data": {
      "text/html": [
       "<div>\n",
       "<style scoped>\n",
       "    .dataframe tbody tr th:only-of-type {\n",
       "        vertical-align: middle;\n",
       "    }\n",
       "\n",
       "    .dataframe tbody tr th {\n",
       "        vertical-align: top;\n",
       "    }\n",
       "\n",
       "    .dataframe thead th {\n",
       "        text-align: right;\n",
       "    }\n",
       "</style>\n",
       "<table border=\"1\" class=\"dataframe\">\n",
       "  <thead>\n",
       "    <tr style=\"text-align: right;\">\n",
       "      <th></th>\n",
       "      <th>types</th>\n",
       "      <th>counts</th>\n",
       "      <th>uniques</th>\n",
       "      <th>nulls</th>\n",
       "      <th>min</th>\n",
       "    </tr>\n",
       "  </thead>\n",
       "  <tbody>\n",
       "    <tr>\n",
       "      <th>Q3_ProdGoalCategory</th>\n",
       "      <td>object</td>\n",
       "      <td>3361</td>\n",
       "      <td>7</td>\n",
       "      <td>63449</td>\n",
       "      <td>NaN</td>\n",
       "    </tr>\n",
       "    <tr>\n",
       "      <th>Q2_ProdGoalCategory</th>\n",
       "      <td>object</td>\n",
       "      <td>5077</td>\n",
       "      <td>8</td>\n",
       "      <td>61733</td>\n",
       "      <td>NaN</td>\n",
       "    </tr>\n",
       "    <tr>\n",
       "      <th>Q1_ProdGoalCategory</th>\n",
       "      <td>object</td>\n",
       "      <td>5284</td>\n",
       "      <td>11</td>\n",
       "      <td>61526</td>\n",
       "      <td>NaN</td>\n",
       "    </tr>\n",
       "    <tr>\n",
       "      <th>IDN</th>\n",
       "      <td>object</td>\n",
       "      <td>18436</td>\n",
       "      <td>366</td>\n",
       "      <td>48374</td>\n",
       "      <td>NaN</td>\n",
       "    </tr>\n",
       "    <tr>\n",
       "      <th>Price_List</th>\n",
       "      <td>object</td>\n",
       "      <td>26086</td>\n",
       "      <td>44</td>\n",
       "      <td>40724</td>\n",
       "      <td>NaN</td>\n",
       "    </tr>\n",
       "    <tr>\n",
       "      <th>RepSalesAdmin</th>\n",
       "      <td>object</td>\n",
       "      <td>35138</td>\n",
       "      <td>5</td>\n",
       "      <td>31672</td>\n",
       "      <td>NaN</td>\n",
       "    </tr>\n",
       "    <tr>\n",
       "      <th>RepClinicalSpecialist</th>\n",
       "      <td>object</td>\n",
       "      <td>37252</td>\n",
       "      <td>5</td>\n",
       "      <td>29558</td>\n",
       "      <td>NaN</td>\n",
       "    </tr>\n",
       "    <tr>\n",
       "      <th>Hospital_Type</th>\n",
       "      <td>object</td>\n",
       "      <td>38779</td>\n",
       "      <td>3</td>\n",
       "      <td>28031</td>\n",
       "      <td>NaN</td>\n",
       "    </tr>\n",
       "    <tr>\n",
       "      <th>RepInsideSalesAssistant</th>\n",
       "      <td>float64</td>\n",
       "      <td>46401</td>\n",
       "      <td>6</td>\n",
       "      <td>20409</td>\n",
       "      <td>0</td>\n",
       "    </tr>\n",
       "    <tr>\n",
       "      <th>REPSTATUS</th>\n",
       "      <td>object</td>\n",
       "      <td>46401</td>\n",
       "      <td>3</td>\n",
       "      <td>20409</td>\n",
       "      <td>NaN</td>\n",
       "    </tr>\n",
       "    <tr>\n",
       "      <th>SynRepID</th>\n",
       "      <td>float64</td>\n",
       "      <td>46401</td>\n",
       "      <td>64</td>\n",
       "      <td>20409</td>\n",
       "      <td>1</td>\n",
       "    </tr>\n",
       "    <tr>\n",
       "      <th>RepName</th>\n",
       "      <td>object</td>\n",
       "      <td>46401</td>\n",
       "      <td>64</td>\n",
       "      <td>20409</td>\n",
       "      <td>NaN</td>\n",
       "    </tr>\n",
       "    <tr>\n",
       "      <th>RepManager</th>\n",
       "      <td>float64</td>\n",
       "      <td>46401</td>\n",
       "      <td>10</td>\n",
       "      <td>20409</td>\n",
       "      <td>0</td>\n",
       "    </tr>\n",
       "    <tr>\n",
       "      <th>Ship_To_Address_2</th>\n",
       "      <td>object</td>\n",
       "      <td>53743</td>\n",
       "      <td>3216</td>\n",
       "      <td>13067</td>\n",
       "      <td>NaN</td>\n",
       "    </tr>\n",
       "    <tr>\n",
       "      <th>POConfirmEmail</th>\n",
       "      <td>object</td>\n",
       "      <td>53761</td>\n",
       "      <td>5055</td>\n",
       "      <td>13049</td>\n",
       "      <td>NaN</td>\n",
       "    </tr>\n",
       "    <tr>\n",
       "      <th>UDFKEY_23</th>\n",
       "      <td>object</td>\n",
       "      <td>58893</td>\n",
       "      <td>2277</td>\n",
       "      <td>7917</td>\n",
       "      <td>NaN</td>\n",
       "    </tr>\n",
       "    <tr>\n",
       "      <th>Bill_To_Address_2</th>\n",
       "      <td>object</td>\n",
       "      <td>60217</td>\n",
       "      <td>810</td>\n",
       "      <td>6593</td>\n",
       "      <td>NaN</td>\n",
       "    </tr>\n",
       "    <tr>\n",
       "      <th>RegionalManager</th>\n",
       "      <td>object</td>\n",
       "      <td>63844</td>\n",
       "      <td>7</td>\n",
       "      <td>2966</td>\n",
       "      <td>NaN</td>\n",
       "    </tr>\n",
       "    <tr>\n",
       "      <th>TerrRep</th>\n",
       "      <td>object</td>\n",
       "      <td>63847</td>\n",
       "      <td>20</td>\n",
       "      <td>2963</td>\n",
       "      <td>NaN</td>\n",
       "    </tr>\n",
       "    <tr>\n",
       "      <th>GPO_Member_ID</th>\n",
       "      <td>object</td>\n",
       "      <td>64478</td>\n",
       "      <td>732</td>\n",
       "      <td>2332</td>\n",
       "      <td>NaN</td>\n",
       "    </tr>\n",
       "    <tr>\n",
       "      <th>Rep_ID</th>\n",
       "      <td>object</td>\n",
       "      <td>64590</td>\n",
       "      <td>71</td>\n",
       "      <td>2220</td>\n",
       "      <td>NaN</td>\n",
       "    </tr>\n",
       "    <tr>\n",
       "      <th>Ship_To_Country</th>\n",
       "      <td>object</td>\n",
       "      <td>65291</td>\n",
       "      <td>50</td>\n",
       "      <td>1519</td>\n",
       "      <td>NaN</td>\n",
       "    </tr>\n",
       "    <tr>\n",
       "      <th>Bill_To_State</th>\n",
       "      <td>object</td>\n",
       "      <td>65912</td>\n",
       "      <td>86</td>\n",
       "      <td>898</td>\n",
       "      <td>NaN</td>\n",
       "    </tr>\n",
       "    <tr>\n",
       "      <th>Facility_ID</th>\n",
       "      <td>object</td>\n",
       "      <td>66029</td>\n",
       "      <td>2995</td>\n",
       "      <td>781</td>\n",
       "      <td>NaN</td>\n",
       "    </tr>\n",
       "    <tr>\n",
       "      <th>Bill_To_ZipCode</th>\n",
       "      <td>object</td>\n",
       "      <td>66252</td>\n",
       "      <td>1472</td>\n",
       "      <td>558</td>\n",
       "      <td>NaN</td>\n",
       "    </tr>\n",
       "    <tr>\n",
       "      <th>Ship_To_State</th>\n",
       "      <td>object</td>\n",
       "      <td>66306</td>\n",
       "      <td>100</td>\n",
       "      <td>504</td>\n",
       "      <td>NaN</td>\n",
       "    </tr>\n",
       "    <tr>\n",
       "      <th>Bill_To_Address_1</th>\n",
       "      <td>object</td>\n",
       "      <td>66469</td>\n",
       "      <td>1740</td>\n",
       "      <td>341</td>\n",
       "      <td>NaN</td>\n",
       "    </tr>\n",
       "    <tr>\n",
       "      <th>Bill_To_Country</th>\n",
       "      <td>object</td>\n",
       "      <td>66483</td>\n",
       "      <td>34</td>\n",
       "      <td>327</td>\n",
       "      <td>NaN</td>\n",
       "    </tr>\n",
       "    <tr>\n",
       "      <th>Terr3zip</th>\n",
       "      <td>object</td>\n",
       "      <td>66497</td>\n",
       "      <td>734</td>\n",
       "      <td>313</td>\n",
       "      <td>NaN</td>\n",
       "    </tr>\n",
       "    <tr>\n",
       "      <th>Ship_To_Zipcode</th>\n",
       "      <td>object</td>\n",
       "      <td>66497</td>\n",
       "      <td>2396</td>\n",
       "      <td>313</td>\n",
       "      <td>NaN</td>\n",
       "    </tr>\n",
       "    <tr>\n",
       "      <th>Ship_To_Address_1</th>\n",
       "      <td>object</td>\n",
       "      <td>66602</td>\n",
       "      <td>3900</td>\n",
       "      <td>208</td>\n",
       "      <td>NaN</td>\n",
       "    </tr>\n",
       "    <tr>\n",
       "      <th>Part_Description</th>\n",
       "      <td>object</td>\n",
       "      <td>66638</td>\n",
       "      <td>1195</td>\n",
       "      <td>172</td>\n",
       "      <td>NaN</td>\n",
       "    </tr>\n",
       "    <tr>\n",
       "      <th>UOM</th>\n",
       "      <td>object</td>\n",
       "      <td>66640</td>\n",
       "      <td>7</td>\n",
       "      <td>170</td>\n",
       "      <td>NaN</td>\n",
       "    </tr>\n",
       "    <tr>\n",
       "      <th>CostConversion</th>\n",
       "      <td>float64</td>\n",
       "      <td>66640</td>\n",
       "      <td>2</td>\n",
       "      <td>170</td>\n",
       "      <td>1</td>\n",
       "    </tr>\n",
       "    <tr>\n",
       "      <th>Customer_PO_Number</th>\n",
       "      <td>object</td>\n",
       "      <td>66643</td>\n",
       "      <td>32643</td>\n",
       "      <td>167</td>\n",
       "      <td>NaN</td>\n",
       "    </tr>\n",
       "    <tr>\n",
       "      <th>Customer_Category</th>\n",
       "      <td>object</td>\n",
       "      <td>66660</td>\n",
       "      <td>24</td>\n",
       "      <td>150</td>\n",
       "      <td>NaN</td>\n",
       "    </tr>\n",
       "    <tr>\n",
       "      <th>Ship_To_City</th>\n",
       "      <td>object</td>\n",
       "      <td>66721</td>\n",
       "      <td>1634</td>\n",
       "      <td>89</td>\n",
       "      <td>NaN</td>\n",
       "    </tr>\n",
       "    <tr>\n",
       "      <th>SubTotal</th>\n",
       "      <td>float64</td>\n",
       "      <td>66734</td>\n",
       "      <td>10560</td>\n",
       "      <td>76</td>\n",
       "      <td>-24061</td>\n",
       "    </tr>\n",
       "    <tr>\n",
       "      <th>UnitPrice</th>\n",
       "      <td>float64</td>\n",
       "      <td>66734</td>\n",
       "      <td>3608</td>\n",
       "      <td>76</td>\n",
       "      <td>0</td>\n",
       "    </tr>\n",
       "    <tr>\n",
       "      <th>OrderQty</th>\n",
       "      <td>float64</td>\n",
       "      <td>66734</td>\n",
       "      <td>390</td>\n",
       "      <td>76</td>\n",
       "      <td>0.01</td>\n",
       "    </tr>\n",
       "    <tr>\n",
       "      <th>PartNumber</th>\n",
       "      <td>object</td>\n",
       "      <td>66734</td>\n",
       "      <td>1627</td>\n",
       "      <td>76</td>\n",
       "      <td>NaN</td>\n",
       "    </tr>\n",
       "    <tr>\n",
       "      <th>Bill_To_City</th>\n",
       "      <td>object</td>\n",
       "      <td>66798</td>\n",
       "      <td>983</td>\n",
       "      <td>12</td>\n",
       "      <td>NaN</td>\n",
       "    </tr>\n",
       "    <tr>\n",
       "      <th>Date</th>\n",
       "      <td>datetime64[ns]</td>\n",
       "      <td>66810</td>\n",
       "      <td>40</td>\n",
       "      <td>0</td>\n",
       "      <td>2018-01-01 00:00:00</td>\n",
       "    </tr>\n",
       "    <tr>\n",
       "      <th>OrderDate</th>\n",
       "      <td>datetime64[ns]</td>\n",
       "      <td>66810</td>\n",
       "      <td>853</td>\n",
       "      <td>0</td>\n",
       "      <td>2018-01-02 00:00:00</td>\n",
       "    </tr>\n",
       "    <tr>\n",
       "      <th>OrderNumber</th>\n",
       "      <td>object</td>\n",
       "      <td>66810</td>\n",
       "      <td>37639</td>\n",
       "      <td>0</td>\n",
       "      <td>20129256</td>\n",
       "    </tr>\n",
       "    <tr>\n",
       "      <th>Ship_To_CustomerName</th>\n",
       "      <td>object</td>\n",
       "      <td>66810</td>\n",
       "      <td>4129</td>\n",
       "      <td>0</td>\n",
       "      <td>(VAMC ROSEBURG)</td>\n",
       "    </tr>\n",
       "    <tr>\n",
       "      <th>Bill_To_CustomerName</th>\n",
       "      <td>object</td>\n",
       "      <td>66810</td>\n",
       "      <td>1975</td>\n",
       "      <td>0</td>\n",
       "      <td>088-UHS OF DELAWARE INC</td>\n",
       "    </tr>\n",
       "    <tr>\n",
       "      <th>Order_Status</th>\n",
       "      <td>object</td>\n",
       "      <td>66810</td>\n",
       "      <td>2</td>\n",
       "      <td>0</td>\n",
       "      <td>3</td>\n",
       "    </tr>\n",
       "    <tr>\n",
       "      <th>Bill_To_CustomerID</th>\n",
       "      <td>object</td>\n",
       "      <td>66810</td>\n",
       "      <td>2507</td>\n",
       "      <td>0</td>\n",
       "      <td>AB448</td>\n",
       "    </tr>\n",
       "    <tr>\n",
       "      <th>POConfirmEmailError</th>\n",
       "      <td>object</td>\n",
       "      <td>66810</td>\n",
       "      <td>2</td>\n",
       "      <td>0</td>\n",
       "      <td>EmailError</td>\n",
       "    </tr>\n",
       "    <tr>\n",
       "      <th>TransactionType</th>\n",
       "      <td>object</td>\n",
       "      <td>66810</td>\n",
       "      <td>2</td>\n",
       "      <td>0</td>\n",
       "      <td>CR</td>\n",
       "    </tr>\n",
       "    <tr>\n",
       "      <th>Quater</th>\n",
       "      <td>object</td>\n",
       "      <td>66810</td>\n",
       "      <td>4</td>\n",
       "      <td>0</td>\n",
       "      <td>Q1</td>\n",
       "    </tr>\n",
       "    <tr>\n",
       "      <th>Product_Line</th>\n",
       "      <td>object</td>\n",
       "      <td>66810</td>\n",
       "      <td>5</td>\n",
       "      <td>0</td>\n",
       "      <td>CT360</td>\n",
       "    </tr>\n",
       "  </tbody>\n",
       "</table>\n",
       "</div>"
      ],
      "text/plain": [
       "                                  types  counts  uniques  nulls  \\\n",
       "Q3_ProdGoalCategory              object    3361        7  63449   \n",
       "Q2_ProdGoalCategory              object    5077        8  61733   \n",
       "Q1_ProdGoalCategory              object    5284       11  61526   \n",
       "IDN                              object   18436      366  48374   \n",
       "Price_List                       object   26086       44  40724   \n",
       "RepSalesAdmin                    object   35138        5  31672   \n",
       "RepClinicalSpecialist            object   37252        5  29558   \n",
       "Hospital_Type                    object   38779        3  28031   \n",
       "RepInsideSalesAssistant         float64   46401        6  20409   \n",
       "REPSTATUS                        object   46401        3  20409   \n",
       "SynRepID                        float64   46401       64  20409   \n",
       "RepName                          object   46401       64  20409   \n",
       "RepManager                      float64   46401       10  20409   \n",
       "Ship_To_Address_2                object   53743     3216  13067   \n",
       "POConfirmEmail                   object   53761     5055  13049   \n",
       "UDFKEY_23                        object   58893     2277   7917   \n",
       "Bill_To_Address_2                object   60217      810   6593   \n",
       "RegionalManager                  object   63844        7   2966   \n",
       "TerrRep                          object   63847       20   2963   \n",
       "GPO_Member_ID                    object   64478      732   2332   \n",
       "Rep_ID                           object   64590       71   2220   \n",
       "Ship_To_Country                  object   65291       50   1519   \n",
       "Bill_To_State                    object   65912       86    898   \n",
       "Facility_ID                      object   66029     2995    781   \n",
       "Bill_To_ZipCode                  object   66252     1472    558   \n",
       "Ship_To_State                    object   66306      100    504   \n",
       "Bill_To_Address_1                object   66469     1740    341   \n",
       "Bill_To_Country                  object   66483       34    327   \n",
       "Terr3zip                         object   66497      734    313   \n",
       "Ship_To_Zipcode                  object   66497     2396    313   \n",
       "Ship_To_Address_1                object   66602     3900    208   \n",
       "Part_Description                 object   66638     1195    172   \n",
       "UOM                              object   66640        7    170   \n",
       "CostConversion                  float64   66640        2    170   \n",
       "Customer_PO_Number               object   66643    32643    167   \n",
       "Customer_Category                object   66660       24    150   \n",
       "Ship_To_City                     object   66721     1634     89   \n",
       "SubTotal                        float64   66734    10560     76   \n",
       "UnitPrice                       float64   66734     3608     76   \n",
       "OrderQty                        float64   66734      390     76   \n",
       "PartNumber                       object   66734     1627     76   \n",
       "Bill_To_City                     object   66798      983     12   \n",
       "Date                     datetime64[ns]   66810       40      0   \n",
       "OrderDate                datetime64[ns]   66810      853      0   \n",
       "OrderNumber                      object   66810    37639      0   \n",
       "Ship_To_CustomerName             object   66810     4129      0   \n",
       "Bill_To_CustomerName             object   66810     1975      0   \n",
       "Order_Status                     object   66810        2      0   \n",
       "Bill_To_CustomerID               object   66810     2507      0   \n",
       "POConfirmEmailError              object   66810        2      0   \n",
       "TransactionType                  object   66810        2      0   \n",
       "Quater                           object   66810        4      0   \n",
       "Product_Line                     object   66810        5      0   \n",
       "\n",
       "                                             min  \n",
       "Q3_ProdGoalCategory                          NaN  \n",
       "Q2_ProdGoalCategory                          NaN  \n",
       "Q1_ProdGoalCategory                          NaN  \n",
       "IDN                                          NaN  \n",
       "Price_List                                   NaN  \n",
       "RepSalesAdmin                                NaN  \n",
       "RepClinicalSpecialist                        NaN  \n",
       "Hospital_Type                                NaN  \n",
       "RepInsideSalesAssistant                        0  \n",
       "REPSTATUS                                    NaN  \n",
       "SynRepID                                       1  \n",
       "RepName                                      NaN  \n",
       "RepManager                                     0  \n",
       "Ship_To_Address_2                            NaN  \n",
       "POConfirmEmail                               NaN  \n",
       "UDFKEY_23                                    NaN  \n",
       "Bill_To_Address_2                            NaN  \n",
       "RegionalManager                              NaN  \n",
       "TerrRep                                      NaN  \n",
       "GPO_Member_ID                                NaN  \n",
       "Rep_ID                                       NaN  \n",
       "Ship_To_Country                              NaN  \n",
       "Bill_To_State                                NaN  \n",
       "Facility_ID                                  NaN  \n",
       "Bill_To_ZipCode                              NaN  \n",
       "Ship_To_State                                NaN  \n",
       "Bill_To_Address_1                            NaN  \n",
       "Bill_To_Country                              NaN  \n",
       "Terr3zip                                     NaN  \n",
       "Ship_To_Zipcode                              NaN  \n",
       "Ship_To_Address_1                            NaN  \n",
       "Part_Description                             NaN  \n",
       "UOM                                          NaN  \n",
       "CostConversion                                 1  \n",
       "Customer_PO_Number                           NaN  \n",
       "Customer_Category                            NaN  \n",
       "Ship_To_City                                 NaN  \n",
       "SubTotal                                  -24061  \n",
       "UnitPrice                                      0  \n",
       "OrderQty                                    0.01  \n",
       "PartNumber                                   NaN  \n",
       "Bill_To_City                                 NaN  \n",
       "Date                         2018-01-01 00:00:00  \n",
       "OrderDate                    2018-01-02 00:00:00  \n",
       "OrderNumber                             20129256  \n",
       "Ship_To_CustomerName             (VAMC ROSEBURG)  \n",
       "Bill_To_CustomerName     088-UHS OF DELAWARE INC  \n",
       "Order_Status                                   3  \n",
       "Bill_To_CustomerID                         AB448  \n",
       "POConfirmEmailError                   EmailError  \n",
       "TransactionType                               CR  \n",
       "Quater                                        Q1  \n",
       "Product_Line                               CT360  "
      ]
     },
     "metadata": {},
     "output_type": "display_data"
    }
   ],
   "source": [
    "def summary(df, pred=None):\n",
    "  obs = df.shape[0]\n",
    "  types = df.dtypes\n",
    "  counts = df.apply(lambda x: x.count())\n",
    "  min = df.min()\n",
    "  uniques = df.apply(lambda x: x.unique().shape[0])\n",
    "  nulls = df.apply(lambda x: x.isnull().sum())\n",
    "  print('Data shape:', df.shape)\n",
    "\n",
    "  if pred is None:\n",
    "        cols = ['types', 'counts', 'uniques', 'nulls', 'min']\n",
    "        str = pd.concat([types, counts, uniques, nulls, min], axis = 1, sort=True)\n",
    "\n",
    "  str.columns = cols\n",
    "  dtypes = str.types.value_counts()\n",
    "  print('___________________________\\nData types:')\n",
    "  print(str.types.value_counts())\n",
    "  print('___________________________')\n",
    "  return str\n",
    "\n",
    "details = summary(df)\n",
    "display(details.sort_values(by='nulls', ascending=False))"
   ]
  },
  {
   "cell_type": "code",
   "execution_count": 15,
   "metadata": {},
   "outputs": [
    {
     "data": {
      "text/plain": [
       "<AxesSubplot:>"
      ]
     },
     "execution_count": 15,
     "metadata": {},
     "output_type": "execute_result"
    },
    {
     "data": {
      "image/png": "[encoded data removed]",
      "text/plain": [
       "<Figure size 432x288 with 1 Axes>"
      ]
     },
     "metadata": {
      "needs_background": "light"
     },
     "output_type": "display_data"
    }
   ],
   "source": [
    "sns.heatmap(df.isnull(),yticklabels=False,cbar=False,cmap='viridis')"
   ]
  },
  {
   "cell_type": "markdown",
   "metadata": {},
   "source": [
    "Now, we can see that there are many null values, these are mainly columns containing string values."
   ]
  },
  {
   "cell_type": "markdown",
   "metadata": {},
   "source": [
    "**There are records having NULL Order Qty and price. We don't need those.**"
   ]
  },
  {
   "cell_type": "code",
   "execution_count": 16,
   "metadata": {},
   "outputs": [],
   "source": [
    "df=df[~df['OrderQty'].isnull()]"
   ]
  },
  {
   "cell_type": "code",
   "execution_count": 17,
   "metadata": {},
   "outputs": [
    {
     "data": {
      "text/plain": [
       "(66734, 53)"
      ]
     },
     "execution_count": 17,
     "metadata": {},
     "output_type": "execute_result"
    }
   ],
   "source": [
    "df.shape"
   ]
  },
  {
   "cell_type": "code",
   "execution_count": 18,
   "metadata": {},
   "outputs": [
    {
     "data": {
      "text/html": [
       "<div>\n",
       "<style scoped>\n",
       "    .dataframe tbody tr th:only-of-type {\n",
       "        vertical-align: middle;\n",
       "    }\n",
       "\n",
       "    .dataframe tbody tr th {\n",
       "        vertical-align: top;\n",
       "    }\n",
       "\n",
       "    .dataframe thead th {\n",
       "        text-align: right;\n",
       "    }\n",
       "</style>\n",
       "<table border=\"1\" class=\"dataframe\">\n",
       "  <thead>\n",
       "    <tr style=\"text-align: right;\">\n",
       "      <th></th>\n",
       "      <th>OrderQty</th>\n",
       "      <th>UnitPrice</th>\n",
       "      <th>SubTotal</th>\n",
       "      <th>CostConversion</th>\n",
       "      <th>SynRepID</th>\n",
       "      <th>RepManager</th>\n",
       "      <th>RepInsideSalesAssistant</th>\n",
       "    </tr>\n",
       "  </thead>\n",
       "  <tbody>\n",
       "    <tr>\n",
       "      <th>count</th>\n",
       "      <td>66734.000000</td>\n",
       "      <td>66734.000000</td>\n",
       "      <td>66734.000000</td>\n",
       "      <td>66640.0</td>\n",
       "      <td>46335.000000</td>\n",
       "      <td>46335.000000</td>\n",
       "      <td>46335.000000</td>\n",
       "    </tr>\n",
       "    <tr>\n",
       "      <th>mean</th>\n",
       "      <td>16.634421</td>\n",
       "      <td>142.782338</td>\n",
       "      <td>1083.242440</td>\n",
       "      <td>1.0</td>\n",
       "      <td>502.292565</td>\n",
       "      <td>169.065199</td>\n",
       "      <td>490.561519</td>\n",
       "    </tr>\n",
       "    <tr>\n",
       "      <th>std</th>\n",
       "      <td>264.646154</td>\n",
       "      <td>237.344811</td>\n",
       "      <td>5421.618876</td>\n",
       "      <td>0.0</td>\n",
       "      <td>158.782314</td>\n",
       "      <td>221.243778</td>\n",
       "      <td>335.776997</td>\n",
       "    </tr>\n",
       "    <tr>\n",
       "      <th>min</th>\n",
       "      <td>0.010000</td>\n",
       "      <td>0.000000</td>\n",
       "      <td>-24060.960000</td>\n",
       "      <td>1.0</td>\n",
       "      <td>1.000000</td>\n",
       "      <td>0.000000</td>\n",
       "      <td>0.000000</td>\n",
       "    </tr>\n",
       "    <tr>\n",
       "      <th>25%</th>\n",
       "      <td>1.000000</td>\n",
       "      <td>53.990000</td>\n",
       "      <td>64.480000</td>\n",
       "      <td>1.0</td>\n",
       "      <td>448.000000</td>\n",
       "      <td>1.000000</td>\n",
       "      <td>487.000000</td>\n",
       "    </tr>\n",
       "    <tr>\n",
       "      <th>50%</th>\n",
       "      <td>2.000000</td>\n",
       "      <td>72.870000</td>\n",
       "      <td>145.080000</td>\n",
       "      <td>1.0</td>\n",
       "      <td>502.000000</td>\n",
       "      <td>5.000000</td>\n",
       "      <td>527.000000</td>\n",
       "    </tr>\n",
       "    <tr>\n",
       "      <th>75%</th>\n",
       "      <td>4.000000</td>\n",
       "      <td>117.920000</td>\n",
       "      <td>455.680000</td>\n",
       "      <td>1.0</td>\n",
       "      <td>528.000000</td>\n",
       "      <td>441.000000</td>\n",
       "      <td>532.000000</td>\n",
       "    </tr>\n",
       "    <tr>\n",
       "      <th>max</th>\n",
       "      <td>11000.000000</td>\n",
       "      <td>26607.960000</td>\n",
       "      <td>270000.000000</td>\n",
       "      <td>1.0</td>\n",
       "      <td>999.000000</td>\n",
       "      <td>999.000000</td>\n",
       "      <td>999.000000</td>\n",
       "    </tr>\n",
       "  </tbody>\n",
       "</table>\n",
       "</div>"
      ],
      "text/plain": [
       "           OrderQty     UnitPrice       SubTotal  CostConversion  \\\n",
       "count  66734.000000  66734.000000   66734.000000         66640.0   \n",
       "mean      16.634421    142.782338    1083.242440             1.0   \n",
       "std      264.646154    237.344811    5421.618876             0.0   \n",
       "min        0.010000      0.000000  -24060.960000             1.0   \n",
       "25%        1.000000     53.990000      64.480000             1.0   \n",
       "50%        2.000000     72.870000     145.080000             1.0   \n",
       "75%        4.000000    117.920000     455.680000             1.0   \n",
       "max    11000.000000  26607.960000  270000.000000             1.0   \n",
       "\n",
       "           SynRepID    RepManager  RepInsideSalesAssistant  \n",
       "count  46335.000000  46335.000000             46335.000000  \n",
       "mean     502.292565    169.065199               490.561519  \n",
       "std      158.782314    221.243778               335.776997  \n",
       "min        1.000000      0.000000                 0.000000  \n",
       "25%      448.000000      1.000000               487.000000  \n",
       "50%      502.000000      5.000000               527.000000  \n",
       "75%      528.000000    441.000000               532.000000  \n",
       "max      999.000000    999.000000               999.000000  "
      ]
     },
     "execution_count": 18,
     "metadata": {},
     "output_type": "execute_result"
    }
   ],
   "source": [
    "df.describe()"
   ]
  },
  {
   "cell_type": "code",
   "execution_count": 19,
   "metadata": {},
   "outputs": [
    {
     "data": {
      "text/plain": [
       "11000.0"
      ]
     },
     "execution_count": 19,
     "metadata": {},
     "output_type": "execute_result"
    }
   ],
   "source": [
    "df['OrderQty'].max()"
   ]
  },
  {
   "cell_type": "code",
   "execution_count": 20,
   "metadata": {},
   "outputs": [
    {
     "data": {
      "text/plain": [
       "<AxesSubplot:xlabel='OrderQty'>"
      ]
     },
     "execution_count": 20,
     "metadata": {},
     "output_type": "execute_result"
    },
    {
     "data": {
      "image/png": "[encoded data removed]",
      "text/plain": [
       "<Figure size 432x288 with 1 Axes>"
      ]
     },
     "metadata": {
      "needs_background": "light"
     },
     "output_type": "display_data"
    }
   ],
   "source": [
    "sns.boxplot(x=df['OrderQty'])"
   ]
  },
  {
   "cell_type": "markdown",
   "metadata": {},
   "source": [
    "#### Now, there are many records for which PRICE= 0, these are the orders that are mostly send to the customers for the SAMPLE use therefore, we will remove it from our data"
   ]
  },
  {
   "cell_type": "code",
   "execution_count": 21,
   "metadata": {},
   "outputs": [],
   "source": [
    "df=df.query('UnitPrice!=0')"
   ]
  },
  {
   "cell_type": "code",
   "execution_count": 22,
   "metadata": {},
   "outputs": [
    {
     "data": {
      "text/plain": [
       "(62514, 53)"
      ]
     },
     "execution_count": 22,
     "metadata": {},
     "output_type": "execute_result"
    }
   ],
   "source": [
    "df.shape"
   ]
  },
  {
   "cell_type": "code",
   "execution_count": 23,
   "metadata": {},
   "outputs": [],
   "source": [
    " df=df.loc[df.OrderQty%1 == 0].reset_index(drop=True)"
   ]
  },
  {
   "cell_type": "code",
   "execution_count": 24,
   "metadata": {},
   "outputs": [
    {
     "data": {
      "text/plain": [
       "(62501, 53)"
      ]
     },
     "execution_count": 24,
     "metadata": {},
     "output_type": "execute_result"
    }
   ],
   "source": [
    "df.shape"
   ]
  },
  {
   "cell_type": "code",
   "execution_count": 25,
   "metadata": {},
   "outputs": [
    {
     "data": {
      "text/plain": [
       "4470.0"
      ]
     },
     "execution_count": 25,
     "metadata": {},
     "output_type": "execute_result"
    }
   ],
   "source": [
    "df['OrderQty'].max()"
   ]
  },
  {
   "cell_type": "markdown",
   "metadata": {},
   "source": [
    "#### Since, the Facility ID are not cleaned, like there are blanks and some are not matched properly to each customer. Therefore, we be only taking the Facility IDs starting with 'Z'"
   ]
  },
  {
   "cell_type": "code",
   "execution_count": 26,
   "metadata": {},
   "outputs": [],
   "source": [
    "df=df[df[\"Facility_ID\"].str.startswith(\"Z\", na = False)]"
   ]
  },
  {
   "cell_type": "code",
   "execution_count": 27,
   "metadata": {},
   "outputs": [
    {
     "data": {
      "text/plain": [
       "(44378, 53)"
      ]
     },
     "execution_count": 27,
     "metadata": {},
     "output_type": "execute_result"
    }
   ],
   "source": [
    "df.shape"
   ]
  },
  {
   "cell_type": "markdown",
   "metadata": {},
   "source": [
    "**Cleaning the Part Numbers**\n",
    "\n",
    "Remvoving the Prefix from the part numbers that starts with 'DIS'"
   ]
  },
  {
   "cell_type": "code",
   "execution_count": 28,
   "metadata": {},
   "outputs": [
    {
     "data": {
      "text/plain": [
       "'CSNC01'"
      ]
     },
     "execution_count": 28,
     "metadata": {},
     "output_type": "execute_result"
    }
   ],
   "source": [
    "a = \"DIS-1\\2X2.5G-CSNC01\"\n",
    "a.split('-')[-1]"
   ]
  },
  {
   "cell_type": "code",
   "execution_count": 29,
   "metadata": {},
   "outputs": [],
   "source": [
    "dis_prtnum=df[df['PartNumber'].str.contains('DIS', regex=False)].index.tolist()"
   ]
  },
  {
   "cell_type": "code",
   "execution_count": 30,
   "metadata": {},
   "outputs": [],
   "source": [
    "for i in dis_prtnum:\n",
    "#     df_main.loc[i,'PartNumber'] = df_main['PartNumber'].str.split('-').str[1]\n",
    "    \n",
    "    r = df.loc[[i]]\n",
    "#     print(r['PartNumber'].values)\n",
    "#     v = r['PartNumber'].values[0].split('-')\n",
    "    \n",
    "#     AfterSymbol  = r['PartNumber'].values[0].split('-')[-1]\n",
    "#     print(AfterSymbol )\n",
    "    df.at[i,'PartNumber'] = r['PartNumber'].values[0].split('-')[-1]"
   ]
  },
  {
   "cell_type": "markdown",
   "metadata": {},
   "source": [
    "### Adding some features in the data that will be useful for analysis at more granular level"
   ]
  },
  {
   "cell_type": "code",
   "execution_count": 31,
   "metadata": {},
   "outputs": [],
   "source": [
    "#Extrcating Name of the Day for each order\n",
    "\n",
    "df['OrderDayOfWeek'] = df['OrderDate'].dt.dayofweek\n",
    "days = {0:'Mon', 1:'Tues', 2:'Wed', 3:'Thurs', 4:'Fri', 5:'Sat', 6:'Sun'}\n",
    "df['OrderDayOfWeek'] = df['OrderDayOfWeek'].apply(lambda x: days[x])"
   ]
  },
  {
   "cell_type": "code",
   "execution_count": 32,
   "metadata": {},
   "outputs": [],
   "source": [
    "df['OrderDate'] = pd.to_datetime(df['OrderDate'])\n",
    "\n",
    "df['OrderYearMonth'] = df['OrderDate'].map(lambda date: 100*date.year + date.month)\n",
    "\n",
    "df['Revenue'] = df['UnitPrice'] * df['OrderQty']\n",
    "\n",
    "df['Revenue']=df['Revenue'].round(decimals=3)"
   ]
  },
  {
   "cell_type": "code",
   "execution_count": 33,
   "metadata": {},
   "outputs": [
    {
     "data": {
      "text/plain": [
       "(44378, 56)"
      ]
     },
     "execution_count": 33,
     "metadata": {},
     "output_type": "execute_result"
    }
   ],
   "source": [
    "df.shape"
   ]
  },
  {
   "cell_type": "code",
   "execution_count": 34,
   "metadata": {},
   "outputs": [],
   "source": [
    "df_min_purchase= df.groupby('Facility_ID').OrderDate.min().reset_index()\n",
    "df_min_purchase.columns=['Facility_ID', 'MinPurchaseDate']\n",
    "df_min_purchase['MinPurchaseYearMonth'] = df_min_purchase['MinPurchaseDate'].map(lambda date: 100*date.year + date.month)"
   ]
  },
  {
   "cell_type": "code",
   "execution_count": 35,
   "metadata": {},
   "outputs": [],
   "source": [
    "#merge first purchase date column to our main df\n",
    "df = pd.merge(df, df_min_purchase,on='Facility_ID')"
   ]
  },
  {
   "cell_type": "code",
   "execution_count": 36,
   "metadata": {},
   "outputs": [
    {
     "data": {
      "text/plain": [
       "(44378, 58)"
      ]
     },
     "execution_count": 36,
     "metadata": {},
     "output_type": "execute_result"
    }
   ],
   "source": [
    "df.shape"
   ]
  },
  {
   "cell_type": "code",
   "execution_count": 37,
   "metadata": {},
   "outputs": [
    {
     "data": {
      "text/html": [
       "<div>\n",
       "<style scoped>\n",
       "    .dataframe tbody tr th:only-of-type {\n",
       "        vertical-align: middle;\n",
       "    }\n",
       "\n",
       "    .dataframe tbody tr th {\n",
       "        vertical-align: top;\n",
       "    }\n",
       "\n",
       "    .dataframe thead th {\n",
       "        text-align: right;\n",
       "    }\n",
       "</style>\n",
       "<table border=\"1\" class=\"dataframe\">\n",
       "  <thead>\n",
       "    <tr style=\"text-align: right;\">\n",
       "      <th></th>\n",
       "      <th>Bill_To_CustomerID</th>\n",
       "      <th>Bill_To_CustomerName</th>\n",
       "      <th>Bill_To_Address_1</th>\n",
       "      <th>Bill_To_Address_2</th>\n",
       "      <th>Bill_To_City</th>\n",
       "      <th>Bill_To_State</th>\n",
       "      <th>Bill_To_ZipCode</th>\n",
       "      <th>Customer_Category</th>\n",
       "      <th>OrderNumber</th>\n",
       "      <th>Customer_PO_Number</th>\n",
       "      <th>...</th>\n",
       "      <th>IDN</th>\n",
       "      <th>POConfirmEmail</th>\n",
       "      <th>POConfirmEmailError</th>\n",
       "      <th>Hospital_Type</th>\n",
       "      <th>Date</th>\n",
       "      <th>OrderDayOfWeek</th>\n",
       "      <th>OrderYearMonth</th>\n",
       "      <th>Revenue</th>\n",
       "      <th>MinPurchaseDate</th>\n",
       "      <th>MinPurchaseYearMonth</th>\n",
       "    </tr>\n",
       "  </thead>\n",
       "  <tbody>\n",
       "    <tr>\n",
       "      <th>0</th>\n",
       "      <td>BLZ0930</td>\n",
       "      <td>Hoag  Memorial Hospital Presbyterian</td>\n",
       "      <td>P.O. Box 31380</td>\n",
       "      <td>Attn:Accounts Payable</td>\n",
       "      <td>Salt Lake</td>\n",
       "      <td>UT</td>\n",
       "      <td>84131</td>\n",
       "      <td>Premier</td>\n",
       "      <td>20133302</td>\n",
       "      <td>1438225</td>\n",
       "      <td>...</td>\n",
       "      <td>NaN</td>\n",
       "      <td>kally.gale@hoag.org</td>\n",
       "      <td>NoError</td>\n",
       "      <td>Hospital</td>\n",
       "      <td>2018-05-01</td>\n",
       "      <td>Tues</td>\n",
       "      <td>201805</td>\n",
       "      <td>432.00</td>\n",
       "      <td>2018-04-29</td>\n",
       "      <td>201804</td>\n",
       "    </tr>\n",
       "    <tr>\n",
       "      <th>1</th>\n",
       "      <td>BLZ0930</td>\n",
       "      <td>Hoag  Memorial Hospital Presbyterian</td>\n",
       "      <td>P.O. Box 31380</td>\n",
       "      <td>Attn:Accounts Payable</td>\n",
       "      <td>Salt Lake</td>\n",
       "      <td>UT</td>\n",
       "      <td>84131</td>\n",
       "      <td>Premier</td>\n",
       "      <td>20133485</td>\n",
       "      <td>APRIL 2018</td>\n",
       "      <td>...</td>\n",
       "      <td>NaN</td>\n",
       "      <td>sborade@casemed.com</td>\n",
       "      <td>NoError</td>\n",
       "      <td>Hospital</td>\n",
       "      <td>2018-04-01</td>\n",
       "      <td>Sun</td>\n",
       "      <td>201804</td>\n",
       "      <td>64.48</td>\n",
       "      <td>2018-04-29</td>\n",
       "      <td>201804</td>\n",
       "    </tr>\n",
       "    <tr>\n",
       "      <th>2</th>\n",
       "      <td>BLZ0930</td>\n",
       "      <td>Hoag  Memorial Hospital Presbyterian</td>\n",
       "      <td>P.O. Box 31380</td>\n",
       "      <td>Attn:Accounts Payable</td>\n",
       "      <td>Salt Lake</td>\n",
       "      <td>UT</td>\n",
       "      <td>84131</td>\n",
       "      <td>Premier</td>\n",
       "      <td>20133882</td>\n",
       "      <td>1440223</td>\n",
       "      <td>...</td>\n",
       "      <td>NaN</td>\n",
       "      <td>victor.nevarez@hoag.org</td>\n",
       "      <td>NoError</td>\n",
       "      <td>Hospital</td>\n",
       "      <td>2018-05-01</td>\n",
       "      <td>Thurs</td>\n",
       "      <td>201805</td>\n",
       "      <td>108.00</td>\n",
       "      <td>2018-04-29</td>\n",
       "      <td>201804</td>\n",
       "    </tr>\n",
       "    <tr>\n",
       "      <th>3</th>\n",
       "      <td>BLZ0930</td>\n",
       "      <td>Hoag  Memorial Hospital Presbyterian</td>\n",
       "      <td>P.O. Box 31380</td>\n",
       "      <td>Attn:Accounts Payable</td>\n",
       "      <td>Salt Lake</td>\n",
       "      <td>UT</td>\n",
       "      <td>84131</td>\n",
       "      <td>Premier</td>\n",
       "      <td>20134172</td>\n",
       "      <td>1441317</td>\n",
       "      <td>...</td>\n",
       "      <td>NaN</td>\n",
       "      <td>kally.gale@hoag.org; linda.miller@hoag.org</td>\n",
       "      <td>NoError</td>\n",
       "      <td>Hospital</td>\n",
       "      <td>2018-06-01</td>\n",
       "      <td>Tues</td>\n",
       "      <td>201806</td>\n",
       "      <td>432.00</td>\n",
       "      <td>2018-04-29</td>\n",
       "      <td>201804</td>\n",
       "    </tr>\n",
       "    <tr>\n",
       "      <th>4</th>\n",
       "      <td>BLZ0930</td>\n",
       "      <td>Hoag  Memorial Hospital Presbyterian</td>\n",
       "      <td>P.O. Box 31380</td>\n",
       "      <td>Attn:Accounts Payable</td>\n",
       "      <td>Salt Lake</td>\n",
       "      <td>UT</td>\n",
       "      <td>84131</td>\n",
       "      <td>Premier</td>\n",
       "      <td>20134217</td>\n",
       "      <td>1441424</td>\n",
       "      <td>...</td>\n",
       "      <td>NaN</td>\n",
       "      <td>victor.nevarez@hoag.org</td>\n",
       "      <td>NoError</td>\n",
       "      <td>Hospital</td>\n",
       "      <td>2018-06-01</td>\n",
       "      <td>Tues</td>\n",
       "      <td>201806</td>\n",
       "      <td>348.40</td>\n",
       "      <td>2018-04-29</td>\n",
       "      <td>201804</td>\n",
       "    </tr>\n",
       "  </tbody>\n",
       "</table>\n",
       "<p>5 rows × 58 columns</p>\n",
       "</div>"
      ],
      "text/plain": [
       "  Bill_To_CustomerID                  Bill_To_CustomerName Bill_To_Address_1  \\\n",
       "0            BLZ0930  Hoag  Memorial Hospital Presbyterian    P.O. Box 31380   \n",
       "1            BLZ0930  Hoag  Memorial Hospital Presbyterian    P.O. Box 31380   \n",
       "2            BLZ0930  Hoag  Memorial Hospital Presbyterian    P.O. Box 31380   \n",
       "3            BLZ0930  Hoag  Memorial Hospital Presbyterian    P.O. Box 31380   \n",
       "4            BLZ0930  Hoag  Memorial Hospital Presbyterian    P.O. Box 31380   \n",
       "\n",
       "       Bill_To_Address_2 Bill_To_City Bill_To_State Bill_To_ZipCode  \\\n",
       "0  Attn:Accounts Payable    Salt Lake            UT           84131   \n",
       "1  Attn:Accounts Payable    Salt Lake            UT           84131   \n",
       "2  Attn:Accounts Payable    Salt Lake            UT           84131   \n",
       "3  Attn:Accounts Payable    Salt Lake            UT           84131   \n",
       "4  Attn:Accounts Payable    Salt Lake            UT           84131   \n",
       "\n",
       "  Customer_Category OrderNumber Customer_PO_Number  ...  IDN  \\\n",
       "0           Premier    20133302            1438225  ...  NaN   \n",
       "1           Premier    20133485         APRIL 2018  ...  NaN   \n",
       "2           Premier    20133882            1440223  ...  NaN   \n",
       "3           Premier    20134172            1441317  ...  NaN   \n",
       "4           Premier    20134217            1441424  ...  NaN   \n",
       "\n",
       "                               POConfirmEmail POConfirmEmailError  \\\n",
       "0                         kally.gale@hoag.org             NoError   \n",
       "1                         sborade@casemed.com             NoError   \n",
       "2                     victor.nevarez@hoag.org             NoError   \n",
       "3  kally.gale@hoag.org; linda.miller@hoag.org             NoError   \n",
       "4                     victor.nevarez@hoag.org             NoError   \n",
       "\n",
       "  Hospital_Type       Date OrderDayOfWeek OrderYearMonth Revenue  \\\n",
       "0      Hospital 2018-05-01           Tues         201805  432.00   \n",
       "1      Hospital 2018-04-01            Sun         201804   64.48   \n",
       "2      Hospital 2018-05-01          Thurs         201805  108.00   \n",
       "3      Hospital 2018-06-01           Tues         201806  432.00   \n",
       "4      Hospital 2018-06-01           Tues         201806  348.40   \n",
       "\n",
       "  MinPurchaseDate MinPurchaseYearMonth  \n",
       "0      2018-04-29               201804  \n",
       "1      2018-04-29               201804  \n",
       "2      2018-04-29               201804  \n",
       "3      2018-04-29               201804  \n",
       "4      2018-04-29               201804  \n",
       "\n",
       "[5 rows x 58 columns]"
      ]
     },
     "execution_count": 37,
     "metadata": {},
     "output_type": "execute_result"
    }
   ],
   "source": [
    "df.head()"
   ]
  },
  {
   "cell_type": "code",
   "execution_count": 38,
   "metadata": {},
   "outputs": [],
   "source": [
    "import dtale"
   ]
  },
  {
   "cell_type": "code",
   "execution_count": 39,
   "metadata": {},
   "outputs": [
    {
     "data": {
      "text/html": [
       "\n",
       "        <iframe\n",
       "            width=\"100%\"\n",
       "            height=\"475\"\n",
       "            src=\"http://CMIT2021A2:40000/dtale/iframe/1\"\n",
       "            frameborder=\"0\"\n",
       "            allowfullscreen\n",
       "        ></iframe>\n",
       "        "
      ],
      "text/plain": [
       "<IPython.lib.display.IFrame at 0x1a05613cf10>"
      ]
     },
     "metadata": {},
     "output_type": "display_data"
    },
    {
     "data": {
      "text/plain": []
     },
     "execution_count": 39,
     "metadata": {},
     "output_type": "execute_result"
    }
   ],
   "source": [
    "dtale.show(df)"
   ]
  },
  {
   "cell_type": "markdown",
   "metadata": {},
   "source": [
    "### Cleaning Column \"Ship_to_Zipcode\""
   ]
  },
  {
   "cell_type": "markdown",
   "metadata": {},
   "source": [
    "**There are values in Zip Code which might contains letter. So we will replace that with blank**"
   ]
  },
  {
   "cell_type": "code",
   "execution_count": 40,
   "metadata": {},
   "outputs": [],
   "source": [
    "df['Ship_To_Zipcode']=df['Ship_To_Zipcode'].replace(to_replace ='[aA-zZ]', value = '', regex = True)\n",
    "#df['Ship_To_Zipcode']=df['Ship_To_Zipcode'].replace(to_replace ='00000', value = 'nan', regex = False)\n",
    "df.replace('', np.nan, inplace=True) "
   ]
  },
  {
   "cell_type": "markdown",
   "metadata": {},
   "source": [
    "**Now there are some values whose length is more than 5, so we need to extract the first part from those values**"
   ]
  },
  {
   "cell_type": "code",
   "execution_count": 41,
   "metadata": {},
   "outputs": [
    {
     "data": {
      "text/plain": [
       "'06106'"
      ]
     },
     "execution_count": 41,
     "metadata": {},
     "output_type": "execute_result"
    }
   ],
   "source": [
    "#Example\n",
    "a = \"06106-2601\"\n",
    "a.split('-')[0]"
   ]
  },
  {
   "cell_type": "markdown",
   "metadata": {},
   "source": [
    "Ship_To_Zipcode containing '-' "
   ]
  },
  {
   "cell_type": "code",
   "execution_count": 42,
   "metadata": {},
   "outputs": [],
   "source": [
    "#Selecting only the records which has '-' in their values, and putting them in the list\n",
    "zipcode_hyp=df[df['Ship_To_Zipcode'].str.contains('-', regex=False, na=False)].index.tolist()\n",
    "\n",
    "#looping over the list to split the values and only selecting the first part before '-'\n",
    "for i in zipcode_hyp:\n",
    "    r = df.loc[[i]]\n",
    "    df.at[i,'Ship_To_Zipcode'] = r['Ship_To_Zipcode'].values[0].split('-')[0]"
   ]
  },
  {
   "cell_type": "markdown",
   "metadata": {},
   "source": [
    "Ship_To_Zipcode having null values"
   ]
  },
  {
   "cell_type": "code",
   "execution_count": 43,
   "metadata": {},
   "outputs": [],
   "source": [
    "na_zipcode=df[df['Ship_To_Zipcode'].isna()].index.tolist()\n",
    "\n",
    "for i in na_zipcode:\n",
    "    r = df.loc[[i]] \n",
    "    df.at[i,'Ship_To_Zipcode'] = r['Facility_ID'].str[1:6].values[0]"
   ]
  },
  {
   "cell_type": "markdown",
   "metadata": {},
   "source": []
  },
  {
   "cell_type": "markdown",
   "metadata": {},
   "source": [
    "Now, State attr of zipcode database, only returns the state for the zipcodes that doesn't have prefix 0 in the zipcode. So we will use lstrip() to remove prefix 0 from the zipcode. \n",
    "We will save the stripped zipcode to another column 'Shipping_Zipcode' and later drop it after the use.\n",
    "\n",
    "refer to the link: https://pypi.org/project/pyzipcode/"
   ]
  },
  {
   "cell_type": "code",
   "execution_count": 44,
   "metadata": {},
   "outputs": [],
   "source": [
    "df['Shipping_Zipcode']=df['Ship_To_Zipcode'].str.lstrip('0')\n",
    "df.replace('', np.nan, inplace=True) "
   ]
  },
  {
   "cell_type": "code",
   "execution_count": 46,
   "metadata": {},
   "outputs": [],
   "source": [
    "# zcdb = ZipCodeDatabase()\n",
    "# r = df.loc[[8]] "
   ]
  },
  {
   "cell_type": "code",
   "execution_count": 49,
   "metadata": {},
   "outputs": [
    {
     "data": {
      "text/plain": [
       "'PR'"
      ]
     },
     "execution_count": 49,
     "metadata": {},
     "output_type": "execute_result"
    }
   ],
   "source": [
    "#Example\n",
    "zcdb[921].state"
   ]
  },
  {
   "cell_type": "code",
   "execution_count": 61,
   "metadata": {},
   "outputs": [],
   "source": [
    "# List of records which contains null in 'Ship_To_State' and doesn't contain null in 'Shipping_Zipcode' column. Because, we will get \n",
    "#the states only for the missing values and save the returned sattes to 'Ship_To_State'\n",
    "\n",
    "zipcode_notnull=df.loc[df['Ship_To_State'].isnull() & df.Shipping_Zipcode.notnull()].index.tolist()\n",
    "\n",
    "zcdb = ZipCodeDatabase()\n",
    "\n",
    "for i in zipcode_notnull: \n",
    "    r = df.loc[[i]]\n",
    "    df.at[i,'Ship_To_State'] = zcdb[r['Shipping_Zipcode'].values[0]].state"
   ]
  },
  {
   "cell_type": "code",
   "execution_count": 48,
   "metadata": {},
   "outputs": [
    {
     "data": {
      "text/html": [
       "\n",
       "        <iframe\n",
       "            width=\"100%\"\n",
       "            height=\"475\"\n",
       "            src=\"http://CMIT2021A2:40000/dtale/iframe/3\"\n",
       "            frameborder=\"0\"\n",
       "            allowfullscreen\n",
       "        ></iframe>\n",
       "        "
      ],
      "text/plain": [
       "<IPython.lib.display.IFrame at 0x1a0486e6d30>"
      ]
     },
     "metadata": {},
     "output_type": "display_data"
    },
    {
     "data": {
      "text/plain": []
     },
     "execution_count": 48,
     "metadata": {},
     "output_type": "execute_result"
    }
   ],
   "source": [
    "dtale.show(df)"
   ]
  },
  {
   "cell_type": "code",
   "execution_count": 50,
   "metadata": {},
   "outputs": [],
   "source": [
    "#df.loc[df['Shipping_Zipcode']=='97471']"
   ]
  },
  {
   "cell_type": "markdown",
   "metadata": {},
   "source": [
    "**Now cleaning the \"Ship_to_Country\" column**"
   ]
  },
  {
   "cell_type": "code",
   "execution_count": 51,
   "metadata": {},
   "outputs": [],
   "source": [
    "#The column should contain only the String values not any characters. So replacing the character values with nan, if any.\n",
    "\n",
    "df['Ship_To_Country']=df['Ship_To_Country'].replace(to_replace ='[1-9]', value = '', regex = True)\n",
    "df.replace('', np.nan, inplace=True) "
   ]
  },
  {
   "cell_type": "code",
   "execution_count": 52,
   "metadata": {},
   "outputs": [],
   "source": [
    "g = df.dropna(subset=['Ship_To_Country']).drop_duplicates('Ship_To_State').set_index('Ship_To_State')['Ship_To_Country']\n",
    "df['Ship_To_Country'] = df['Ship_To_Country'].fillna(df['Ship_To_State'].map(g))"
   ]
  },
  {
   "cell_type": "code",
   "execution_count": 53,
   "metadata": {},
   "outputs": [
    {
     "name": "stdout",
     "output_type": "stream",
     "text": [
      "Ship_To_State\n",
      "CA          USA\n",
      "LA          USA\n",
      "GA          USA\n",
      "PA          USA\n",
      "NY          USA\n",
      "          ...  \n",
      "M0          USA\n",
      "Haven        US\n",
      "Tokyo     Japan\n",
      "AFE      Europe\n",
      "GA.         USA\n",
      "Name: Ship_To_Country, Length: 65, dtype: object\n"
     ]
    }
   ],
   "source": [
    "print(g)"
   ]
  },
  {
   "cell_type": "code",
   "execution_count": 54,
   "metadata": {},
   "outputs": [
    {
     "data": {
      "text/plain": [
       "USA                     39979\n",
       "US                       3958\n",
       "Puerto Rico               181\n",
       "Taiwan                    135\n",
       "Tiawan                     36\n",
       "usa                        36\n",
       "Hawaii                     20\n",
       "NY                         14\n",
       "United Arab Emirates        5\n",
       "Europe                      5\n",
       "Japan                       2\n",
       "MO                          2\n",
       "us                          2\n",
       "OH                          1\n",
       "Korea                       1\n",
       "Name: Ship_To_Country, dtype: int64"
      ]
     },
     "execution_count": 54,
     "metadata": {},
     "output_type": "execute_result"
    }
   ],
   "source": [
    "df['Ship_To_Country'].value_counts()"
   ]
  },
  {
   "cell_type": "markdown",
   "metadata": {},
   "source": [
    "As you can see the name of Country is not consistent across our data. So we need to make it consistent for our analysis"
   ]
  },
  {
   "cell_type": "code",
   "execution_count": 55,
   "metadata": {},
   "outputs": [],
   "source": [
    "#Creating the dictionary to  replace the country name, in order to make it consistent\n",
    "replace_values = {'US' : 'USA', 'us' : 'USA', 'usa' : 'USA','NY' : 'USA','MO' : 'USA','Tiawan' : 'Taiwan','United Arab Emirates' : 'UAE','OH' : 'USA','Puerto Rico' : 'PR' }\n",
    "df = df.replace({\"Ship_To_Country\": replace_values})  "
   ]
  },
  {
   "cell_type": "markdown",
   "metadata": {},
   "source": [
    "**You can see the count of each Country in our data. They are consistent now**"
   ]
  },
  {
   "cell_type": "code",
   "execution_count": 56,
   "metadata": {},
   "outputs": [
    {
     "data": {
      "text/plain": [
       "USA       43992\n",
       "PR          181\n",
       "Taiwan      171\n",
       "Hawaii       20\n",
       "Europe        5\n",
       "UAE           5\n",
       "Japan         2\n",
       "Korea         1\n",
       "Name: Ship_To_Country, dtype: int64"
      ]
     },
     "execution_count": 56,
     "metadata": {},
     "output_type": "execute_result"
    }
   ],
   "source": [
    "df['Ship_To_Country'].value_counts()"
   ]
  },
  {
   "cell_type": "markdown",
   "metadata": {},
   "source": [
    "### Defining USER TYPE"
   ]
  },
  {
   "cell_type": "markdown",
   "metadata": {},
   "source": [
    "Now, we create a new column **UserType** in which we will define whether a customer is New or Existing?\n",
    "\n",
    "If the customer's First Purchase Year Month is before the selected Invoice Year Month then it's 'Existing' else it will be considered as 'New'"
   ]
  },
  {
   "cell_type": "code",
   "execution_count": 57,
   "metadata": {},
   "outputs": [],
   "source": [
    "#UserType column\n",
    "df['UserType'] = 'New'\n",
    "df.loc[df['OrderYearMonth']>df['MinPurchaseYearMonth'],'UserType'] = 'Existing'"
   ]
  },
  {
   "cell_type": "code",
   "execution_count": 58,
   "metadata": {},
   "outputs": [
    {
     "data": {
      "text/html": [
       "<div>\n",
       "<style scoped>\n",
       "    .dataframe tbody tr th:only-of-type {\n",
       "        vertical-align: middle;\n",
       "    }\n",
       "\n",
       "    .dataframe tbody tr th {\n",
       "        vertical-align: top;\n",
       "    }\n",
       "\n",
       "    .dataframe thead th {\n",
       "        text-align: right;\n",
       "    }\n",
       "</style>\n",
       "<table border=\"1\" class=\"dataframe\">\n",
       "  <thead>\n",
       "    <tr style=\"text-align: right;\">\n",
       "      <th></th>\n",
       "      <th>Bill_To_CustomerID</th>\n",
       "      <th>Bill_To_CustomerName</th>\n",
       "      <th>Bill_To_Address_1</th>\n",
       "      <th>Bill_To_Address_2</th>\n",
       "      <th>Bill_To_City</th>\n",
       "      <th>Bill_To_State</th>\n",
       "      <th>Bill_To_ZipCode</th>\n",
       "      <th>Customer_Category</th>\n",
       "      <th>OrderNumber</th>\n",
       "      <th>Customer_PO_Number</th>\n",
       "      <th>...</th>\n",
       "      <th>POConfirmEmailError</th>\n",
       "      <th>Hospital_Type</th>\n",
       "      <th>Date</th>\n",
       "      <th>OrderDayOfWeek</th>\n",
       "      <th>OrderYearMonth</th>\n",
       "      <th>Revenue</th>\n",
       "      <th>MinPurchaseDate</th>\n",
       "      <th>MinPurchaseYearMonth</th>\n",
       "      <th>Shipping_Zipcode</th>\n",
       "      <th>UserType</th>\n",
       "    </tr>\n",
       "  </thead>\n",
       "  <tbody>\n",
       "    <tr>\n",
       "      <th>0</th>\n",
       "      <td>BLZ0930</td>\n",
       "      <td>Hoag  Memorial Hospital Presbyterian</td>\n",
       "      <td>P.O. Box 31380</td>\n",
       "      <td>Attn:Accounts Payable</td>\n",
       "      <td>Salt Lake</td>\n",
       "      <td>UT</td>\n",
       "      <td>84131</td>\n",
       "      <td>Premier</td>\n",
       "      <td>20133302</td>\n",
       "      <td>1438225</td>\n",
       "      <td>...</td>\n",
       "      <td>NoError</td>\n",
       "      <td>Hospital</td>\n",
       "      <td>2018-05-01</td>\n",
       "      <td>Tues</td>\n",
       "      <td>201805</td>\n",
       "      <td>432.00</td>\n",
       "      <td>2018-04-29</td>\n",
       "      <td>201804</td>\n",
       "      <td>92663</td>\n",
       "      <td>Existing</td>\n",
       "    </tr>\n",
       "    <tr>\n",
       "      <th>1</th>\n",
       "      <td>BLZ0930</td>\n",
       "      <td>Hoag  Memorial Hospital Presbyterian</td>\n",
       "      <td>P.O. Box 31380</td>\n",
       "      <td>Attn:Accounts Payable</td>\n",
       "      <td>Salt Lake</td>\n",
       "      <td>UT</td>\n",
       "      <td>84131</td>\n",
       "      <td>Premier</td>\n",
       "      <td>20133485</td>\n",
       "      <td>APRIL 2018</td>\n",
       "      <td>...</td>\n",
       "      <td>NoError</td>\n",
       "      <td>Hospital</td>\n",
       "      <td>2018-04-01</td>\n",
       "      <td>Sun</td>\n",
       "      <td>201804</td>\n",
       "      <td>64.48</td>\n",
       "      <td>2018-04-29</td>\n",
       "      <td>201804</td>\n",
       "      <td>92663</td>\n",
       "      <td>New</td>\n",
       "    </tr>\n",
       "    <tr>\n",
       "      <th>2</th>\n",
       "      <td>BLZ0930</td>\n",
       "      <td>Hoag  Memorial Hospital Presbyterian</td>\n",
       "      <td>P.O. Box 31380</td>\n",
       "      <td>Attn:Accounts Payable</td>\n",
       "      <td>Salt Lake</td>\n",
       "      <td>UT</td>\n",
       "      <td>84131</td>\n",
       "      <td>Premier</td>\n",
       "      <td>20133882</td>\n",
       "      <td>1440223</td>\n",
       "      <td>...</td>\n",
       "      <td>NoError</td>\n",
       "      <td>Hospital</td>\n",
       "      <td>2018-05-01</td>\n",
       "      <td>Thurs</td>\n",
       "      <td>201805</td>\n",
       "      <td>108.00</td>\n",
       "      <td>2018-04-29</td>\n",
       "      <td>201804</td>\n",
       "      <td>92663</td>\n",
       "      <td>Existing</td>\n",
       "    </tr>\n",
       "    <tr>\n",
       "      <th>3</th>\n",
       "      <td>BLZ0930</td>\n",
       "      <td>Hoag  Memorial Hospital Presbyterian</td>\n",
       "      <td>P.O. Box 31380</td>\n",
       "      <td>Attn:Accounts Payable</td>\n",
       "      <td>Salt Lake</td>\n",
       "      <td>UT</td>\n",
       "      <td>84131</td>\n",
       "      <td>Premier</td>\n",
       "      <td>20134172</td>\n",
       "      <td>1441317</td>\n",
       "      <td>...</td>\n",
       "      <td>NoError</td>\n",
       "      <td>Hospital</td>\n",
       "      <td>2018-06-01</td>\n",
       "      <td>Tues</td>\n",
       "      <td>201806</td>\n",
       "      <td>432.00</td>\n",
       "      <td>2018-04-29</td>\n",
       "      <td>201804</td>\n",
       "      <td>92663</td>\n",
       "      <td>Existing</td>\n",
       "    </tr>\n",
       "    <tr>\n",
       "      <th>4</th>\n",
       "      <td>BLZ0930</td>\n",
       "      <td>Hoag  Memorial Hospital Presbyterian</td>\n",
       "      <td>P.O. Box 31380</td>\n",
       "      <td>Attn:Accounts Payable</td>\n",
       "      <td>Salt Lake</td>\n",
       "      <td>UT</td>\n",
       "      <td>84131</td>\n",
       "      <td>Premier</td>\n",
       "      <td>20134217</td>\n",
       "      <td>1441424</td>\n",
       "      <td>...</td>\n",
       "      <td>NoError</td>\n",
       "      <td>Hospital</td>\n",
       "      <td>2018-06-01</td>\n",
       "      <td>Tues</td>\n",
       "      <td>201806</td>\n",
       "      <td>348.40</td>\n",
       "      <td>2018-04-29</td>\n",
       "      <td>201804</td>\n",
       "      <td>92663</td>\n",
       "      <td>Existing</td>\n",
       "    </tr>\n",
       "  </tbody>\n",
       "</table>\n",
       "<p>5 rows × 60 columns</p>\n",
       "</div>"
      ],
      "text/plain": [
       "  Bill_To_CustomerID                  Bill_To_CustomerName Bill_To_Address_1  \\\n",
       "0            BLZ0930  Hoag  Memorial Hospital Presbyterian    P.O. Box 31380   \n",
       "1            BLZ0930  Hoag  Memorial Hospital Presbyterian    P.O. Box 31380   \n",
       "2            BLZ0930  Hoag  Memorial Hospital Presbyterian    P.O. Box 31380   \n",
       "3            BLZ0930  Hoag  Memorial Hospital Presbyterian    P.O. Box 31380   \n",
       "4            BLZ0930  Hoag  Memorial Hospital Presbyterian    P.O. Box 31380   \n",
       "\n",
       "       Bill_To_Address_2 Bill_To_City Bill_To_State Bill_To_ZipCode  \\\n",
       "0  Attn:Accounts Payable    Salt Lake            UT           84131   \n",
       "1  Attn:Accounts Payable    Salt Lake            UT           84131   \n",
       "2  Attn:Accounts Payable    Salt Lake            UT           84131   \n",
       "3  Attn:Accounts Payable    Salt Lake            UT           84131   \n",
       "4  Attn:Accounts Payable    Salt Lake            UT           84131   \n",
       "\n",
       "  Customer_Category OrderNumber Customer_PO_Number  ... POConfirmEmailError  \\\n",
       "0           Premier    20133302            1438225  ...             NoError   \n",
       "1           Premier    20133485         APRIL 2018  ...             NoError   \n",
       "2           Premier    20133882            1440223  ...             NoError   \n",
       "3           Premier    20134172            1441317  ...             NoError   \n",
       "4           Premier    20134217            1441424  ...             NoError   \n",
       "\n",
       "  Hospital_Type       Date OrderDayOfWeek OrderYearMonth Revenue  \\\n",
       "0      Hospital 2018-05-01           Tues         201805  432.00   \n",
       "1      Hospital 2018-04-01            Sun         201804   64.48   \n",
       "2      Hospital 2018-05-01          Thurs         201805  108.00   \n",
       "3      Hospital 2018-06-01           Tues         201806  432.00   \n",
       "4      Hospital 2018-06-01           Tues         201806  348.40   \n",
       "\n",
       "  MinPurchaseDate MinPurchaseYearMonth Shipping_Zipcode  UserType  \n",
       "0      2018-04-29               201804            92663  Existing  \n",
       "1      2018-04-29               201804            92663       New  \n",
       "2      2018-04-29               201804            92663  Existing  \n",
       "3      2018-04-29               201804            92663  Existing  \n",
       "4      2018-04-29               201804            92663  Existing  \n",
       "\n",
       "[5 rows x 60 columns]"
      ]
     },
     "execution_count": 58,
     "metadata": {},
     "output_type": "execute_result"
    }
   ],
   "source": [
    "df.head()"
   ]
  },
  {
   "cell_type": "code",
   "execution_count": 59,
   "metadata": {},
   "outputs": [
    {
     "data": {
      "text/plain": [
       "(44378, 60)"
      ]
     },
     "execution_count": 59,
     "metadata": {},
     "output_type": "execute_result"
    }
   ],
   "source": [
    "df.shape"
   ]
  },
  {
   "cell_type": "markdown",
   "metadata": {},
   "source": [
    "## DATA LOADING"
   ]
  },
  {
   "cell_type": "code",
   "execution_count": 60,
   "metadata": {},
   "outputs": [],
   "source": [
    "# # Extarcting the DataFrame (df) to csv file, for reference.\n",
    "df.to_csv(\"data_cleaned/BORSalesOrderSumary_Cleaned.csv\")"
   ]
  },
  {
   "cell_type": "markdown",
   "metadata": {},
   "source": [
    "##### to_sql function load the data into our connected database. \n",
    "For 90k records it takes aproximately 40-45mins to load the data"
   ]
  },
  {
   "cell_type": "code",
   "execution_count": 197,
   "metadata": {},
   "outputs": [
    {
     "name": "stdout",
     "output_type": "stream",
     "text": [
      "2021-04-30 17:06:30,977 INFO sqlalchemy.engine.Engine SELECT [INFORMATION_SCHEMA].[TABLES].[TABLE_NAME] \n",
      "FROM [INFORMATION_SCHEMA].[TABLES] \n",
      "WHERE [INFORMATION_SCHEMA].[TABLES].[TABLE_TYPE] = CAST(? AS NVARCHAR(max)) AND [INFORMATION_SCHEMA].[TABLES].[TABLE_NAME] = CAST(? AS NVARCHAR(max)) AND [INFORMATION_SCHEMA].[TABLES].[TABLE_SCHEMA] = CAST(? AS NVARCHAR(max))\n"
     ]
    },
    {
     "name": "stderr",
     "output_type": "stream",
     "text": [
      "2021-04-30 17:06:30,977 - INFO     - SELECT [INFORMATION_SCHEMA].[TABLES].[TABLE_NAME] \n",
      "FROM [INFORMATION_SCHEMA].[TABLES] \n",
      "WHERE [INFORMATION_SCHEMA].[TABLES].[TABLE_TYPE] = CAST(? AS NVARCHAR(max)) AND [INFORMATION_SCHEMA].[TABLES].[TABLE_NAME] = CAST(? AS NVARCHAR(max)) AND [INFORMATION_SCHEMA].[TABLES].[TABLE_SCHEMA] = CAST(? AS NVARCHAR(max))\n"
     ]
    },
    {
     "name": "stdout",
     "output_type": "stream",
     "text": [
      "2021-04-30 17:06:30,979 INFO sqlalchemy.engine.Engine [cached since 862.7s ago] ('BASE TABLE', 'DROP TABLE [ExactMAXCaseMedical].[dbo].[BORSalesOrderSumary_Cleaned]', 'dbo')\n"
     ]
    },
    {
     "name": "stderr",
     "output_type": "stream",
     "text": [
      "2021-04-30 17:06:30,979 - INFO     - [cached since 862.7s ago] ('BASE TABLE', 'DROP TABLE [ExactMAXCaseMedical].[dbo].[BORSalesOrderSumary_Cleaned]', 'dbo')\n"
     ]
    },
    {
     "name": "stdout",
     "output_type": "stream",
     "text": [
      "2021-04-30 17:06:31,057 INFO sqlalchemy.engine.Engine DROP TABLE [ExactMAXCaseMedical].[dbo].[BORSalesOrderSumary_Cleaned]\n"
     ]
    },
    {
     "name": "stderr",
     "output_type": "stream",
     "text": [
      "2021-04-30 17:06:31,057 - INFO     - DROP TABLE [ExactMAXCaseMedical].[dbo].[BORSalesOrderSumary_Cleaned]\n"
     ]
    },
    {
     "name": "stdout",
     "output_type": "stream",
     "text": [
      "2021-04-30 17:06:31,059 INFO sqlalchemy.engine.Engine [raw sql] ()\n"
     ]
    },
    {
     "name": "stderr",
     "output_type": "stream",
     "text": [
      "2021-04-30 17:06:31,059 - INFO     - [raw sql] ()\n"
     ]
    },
    {
     "name": "stdout",
     "output_type": "stream",
     "text": [
      "2021-04-30 17:06:31,082 INFO sqlalchemy.engine.Engine COMMIT\n"
     ]
    },
    {
     "name": "stderr",
     "output_type": "stream",
     "text": [
      "2021-04-30 17:06:31,082 - INFO     - COMMIT\n"
     ]
    },
    {
     "ename": "ResourceClosedError",
     "evalue": "This result object does not return rows. It has been closed automatically.",
     "output_type": "error",
     "traceback": [
      "\u001b[1;31m---------------------------------------------------------------------------\u001b[0m",
      "\u001b[1;31mResourceClosedError\u001b[0m                       Traceback (most recent call last)",
      "\u001b[1;32m<ipython-input-197-4bf8f9f470ea>\u001b[0m in \u001b[0;36m<module>\u001b[1;34m\u001b[0m\n\u001b[0;32m      1\u001b[0m \u001b[1;31m#Dropping tablea from the database first\u001b[0m\u001b[1;33m\u001b[0m\u001b[1;33m\u001b[0m\u001b[1;33m\u001b[0m\u001b[0m\n\u001b[1;32m----> 2\u001b[1;33m \u001b[0mpd\u001b[0m\u001b[1;33m.\u001b[0m\u001b[0mread_sql\u001b[0m\u001b[1;33m(\u001b[0m\u001b[1;34m'DROP TABLE [ExactMAXCaseMedical].[dbo].[BORSalesOrderSumary_Cleaned]'\u001b[0m\u001b[1;33m,\u001b[0m \u001b[0mengine\u001b[0m\u001b[1;33m)\u001b[0m\u001b[1;33m\u001b[0m\u001b[1;33m\u001b[0m\u001b[0m\n\u001b[0m",
      "\u001b[1;32m~\\Anaconda3\\lib\\site-packages\\pandas\\io\\sql.py\u001b[0m in \u001b[0;36mread_sql\u001b[1;34m(sql, con, index_col, coerce_float, params, parse_dates, columns, chunksize)\u001b[0m\n\u001b[0;32m    507\u001b[0m         )\n\u001b[0;32m    508\u001b[0m     \u001b[1;32melse\u001b[0m\u001b[1;33m:\u001b[0m\u001b[1;33m\u001b[0m\u001b[1;33m\u001b[0m\u001b[0m\n\u001b[1;32m--> 509\u001b[1;33m         return pandas_sql.read_query(\n\u001b[0m\u001b[0;32m    510\u001b[0m             \u001b[0msql\u001b[0m\u001b[1;33m,\u001b[0m\u001b[1;33m\u001b[0m\u001b[1;33m\u001b[0m\u001b[0m\n\u001b[0;32m    511\u001b[0m             \u001b[0mindex_col\u001b[0m\u001b[1;33m=\u001b[0m\u001b[0mindex_col\u001b[0m\u001b[1;33m,\u001b[0m\u001b[1;33m\u001b[0m\u001b[1;33m\u001b[0m\u001b[0m\n",
      "\u001b[1;32m~\\Anaconda3\\lib\\site-packages\\pandas\\io\\sql.py\u001b[0m in \u001b[0;36mread_query\u001b[1;34m(self, sql, index_col, coerce_float, parse_dates, params, chunksize)\u001b[0m\n\u001b[0;32m   1294\u001b[0m \u001b[1;33m\u001b[0m\u001b[0m\n\u001b[0;32m   1295\u001b[0m         \u001b[0mresult\u001b[0m \u001b[1;33m=\u001b[0m \u001b[0mself\u001b[0m\u001b[1;33m.\u001b[0m\u001b[0mexecute\u001b[0m\u001b[1;33m(\u001b[0m\u001b[1;33m*\u001b[0m\u001b[0margs\u001b[0m\u001b[1;33m)\u001b[0m\u001b[1;33m\u001b[0m\u001b[1;33m\u001b[0m\u001b[0m\n\u001b[1;32m-> 1296\u001b[1;33m         \u001b[0mcolumns\u001b[0m \u001b[1;33m=\u001b[0m \u001b[0mresult\u001b[0m\u001b[1;33m.\u001b[0m\u001b[0mkeys\u001b[0m\u001b[1;33m(\u001b[0m\u001b[1;33m)\u001b[0m\u001b[1;33m\u001b[0m\u001b[1;33m\u001b[0m\u001b[0m\n\u001b[0m\u001b[0;32m   1297\u001b[0m \u001b[1;33m\u001b[0m\u001b[0m\n\u001b[0;32m   1298\u001b[0m         \u001b[1;32mif\u001b[0m \u001b[0mchunksize\u001b[0m \u001b[1;32mis\u001b[0m \u001b[1;32mnot\u001b[0m \u001b[1;32mNone\u001b[0m\u001b[1;33m:\u001b[0m\u001b[1;33m\u001b[0m\u001b[1;33m\u001b[0m\u001b[0m\n",
      "\u001b[1;32m~\\Anaconda3\\lib\\site-packages\\sqlalchemy\\engine\\result.py\u001b[0m in \u001b[0;36mkeys\u001b[1;34m(self)\u001b[0m\n\u001b[0;32m    696\u001b[0m \u001b[1;33m\u001b[0m\u001b[0m\n\u001b[0;32m    697\u001b[0m         \"\"\"\n\u001b[1;32m--> 698\u001b[1;33m         \u001b[1;32mreturn\u001b[0m \u001b[0mself\u001b[0m\u001b[1;33m.\u001b[0m\u001b[0m_metadata\u001b[0m\u001b[1;33m.\u001b[0m\u001b[0mkeys\u001b[0m\u001b[1;33m\u001b[0m\u001b[1;33m\u001b[0m\u001b[0m\n\u001b[0m\u001b[0;32m    699\u001b[0m \u001b[1;33m\u001b[0m\u001b[0m\n\u001b[0;32m    700\u001b[0m \u001b[1;33m\u001b[0m\u001b[0m\n",
      "\u001b[1;32m~\\Anaconda3\\lib\\site-packages\\sqlalchemy\\engine\\cursor.py\u001b[0m in \u001b[0;36mkeys\u001b[1;34m(self)\u001b[0m\n\u001b[0;32m   1199\u001b[0m     \u001b[1;33m@\u001b[0m\u001b[0mproperty\u001b[0m\u001b[1;33m\u001b[0m\u001b[1;33m\u001b[0m\u001b[0m\n\u001b[0;32m   1200\u001b[0m     \u001b[1;32mdef\u001b[0m \u001b[0mkeys\u001b[0m\u001b[1;33m(\u001b[0m\u001b[0mself\u001b[0m\u001b[1;33m)\u001b[0m\u001b[1;33m:\u001b[0m\u001b[1;33m\u001b[0m\u001b[1;33m\u001b[0m\u001b[0m\n\u001b[1;32m-> 1201\u001b[1;33m         \u001b[0mself\u001b[0m\u001b[1;33m.\u001b[0m\u001b[0m_we_dont_return_rows\u001b[0m\u001b[1;33m(\u001b[0m\u001b[1;33m)\u001b[0m\u001b[1;33m\u001b[0m\u001b[1;33m\u001b[0m\u001b[0m\n\u001b[0m\u001b[0;32m   1202\u001b[0m \u001b[1;33m\u001b[0m\u001b[0m\n\u001b[0;32m   1203\u001b[0m \u001b[1;33m\u001b[0m\u001b[0m\n",
      "\u001b[1;32m~\\Anaconda3\\lib\\site-packages\\sqlalchemy\\engine\\cursor.py\u001b[0m in \u001b[0;36m_we_dont_return_rows\u001b[1;34m(self, err)\u001b[0m\n\u001b[0;32m   1176\u001b[0m \u001b[1;33m\u001b[0m\u001b[0m\n\u001b[0;32m   1177\u001b[0m     \u001b[1;32mdef\u001b[0m \u001b[0m_we_dont_return_rows\u001b[0m\u001b[1;33m(\u001b[0m\u001b[0mself\u001b[0m\u001b[1;33m,\u001b[0m \u001b[0merr\u001b[0m\u001b[1;33m=\u001b[0m\u001b[1;32mNone\u001b[0m\u001b[1;33m)\u001b[0m\u001b[1;33m:\u001b[0m\u001b[1;33m\u001b[0m\u001b[1;33m\u001b[0m\u001b[0m\n\u001b[1;32m-> 1178\u001b[1;33m         util.raise_(\n\u001b[0m\u001b[0;32m   1179\u001b[0m             exc.ResourceClosedError(\n\u001b[0;32m   1180\u001b[0m                 \u001b[1;34m\"This result object does not return rows. \"\u001b[0m\u001b[1;33m\u001b[0m\u001b[1;33m\u001b[0m\u001b[0m\n",
      "\u001b[1;32m~\\Anaconda3\\lib\\site-packages\\sqlalchemy\\util\\compat.py\u001b[0m in \u001b[0;36mraise_\u001b[1;34m(***failed resolving arguments***)\u001b[0m\n\u001b[0;32m    209\u001b[0m \u001b[1;33m\u001b[0m\u001b[0m\n\u001b[0;32m    210\u001b[0m         \u001b[1;32mtry\u001b[0m\u001b[1;33m:\u001b[0m\u001b[1;33m\u001b[0m\u001b[1;33m\u001b[0m\u001b[0m\n\u001b[1;32m--> 211\u001b[1;33m             \u001b[1;32mraise\u001b[0m \u001b[0mexception\u001b[0m\u001b[1;33m\u001b[0m\u001b[1;33m\u001b[0m\u001b[0m\n\u001b[0m\u001b[0;32m    212\u001b[0m         \u001b[1;32mfinally\u001b[0m\u001b[1;33m:\u001b[0m\u001b[1;33m\u001b[0m\u001b[1;33m\u001b[0m\u001b[0m\n\u001b[0;32m    213\u001b[0m             \u001b[1;31m# credit to\u001b[0m\u001b[1;33m\u001b[0m\u001b[1;33m\u001b[0m\u001b[1;33m\u001b[0m\u001b[0m\n",
      "\u001b[1;31mResourceClosedError\u001b[0m: This result object does not return rows. It has been closed automatically."
     ]
    }
   ],
   "source": [
    "#Dropping tables from the database first\n",
    "\n",
    "pd.read_sql('DROP TABLE [ExactMAXCaseMedical].[dbo].[BORSalesOrderSumary_Cleaned]', engine)"
   ]
  },
  {
   "cell_type": "code",
   "execution_count": 198,
   "metadata": {},
   "outputs": [
    {
     "name": "stdout",
     "output_type": "stream",
     "text": [
      "2021-04-30 17:06:34,040 INFO sqlalchemy.engine.Engine SELECT [INFORMATION_SCHEMA].[TABLES].[TABLE_NAME] \n",
      "FROM [INFORMATION_SCHEMA].[TABLES] \n",
      "WHERE [INFORMATION_SCHEMA].[TABLES].[TABLE_TYPE] = CAST(? AS NVARCHAR(max)) AND [INFORMATION_SCHEMA].[TABLES].[TABLE_NAME] = CAST(? AS NVARCHAR(max)) AND [INFORMATION_SCHEMA].[TABLES].[TABLE_SCHEMA] = CAST(? AS NVARCHAR(max))\n"
     ]
    },
    {
     "name": "stderr",
     "output_type": "stream",
     "text": [
      "2021-04-30 17:06:34,040 - INFO     - SELECT [INFORMATION_SCHEMA].[TABLES].[TABLE_NAME] \n",
      "FROM [INFORMATION_SCHEMA].[TABLES] \n",
      "WHERE [INFORMATION_SCHEMA].[TABLES].[TABLE_TYPE] = CAST(? AS NVARCHAR(max)) AND [INFORMATION_SCHEMA].[TABLES].[TABLE_NAME] = CAST(? AS NVARCHAR(max)) AND [INFORMATION_SCHEMA].[TABLES].[TABLE_SCHEMA] = CAST(? AS NVARCHAR(max))\n"
     ]
    },
    {
     "name": "stdout",
     "output_type": "stream",
     "text": [
      "2021-04-30 17:06:34,042 INFO sqlalchemy.engine.Engine [cached since 865.8s ago] ('BASE TABLE', 'BORSalesOrderSumary_Cleaned', 'dbo')\n"
     ]
    },
    {
     "name": "stderr",
     "output_type": "stream",
     "text": [
      "2021-04-30 17:06:34,042 - INFO     - [cached since 865.8s ago] ('BASE TABLE', 'BORSalesOrderSumary_Cleaned', 'dbo')\n"
     ]
    },
    {
     "name": "stdout",
     "output_type": "stream",
     "text": [
      "2021-04-30 17:06:34,121 INFO sqlalchemy.engine.Engine BEGIN (implicit)\n"
     ]
    },
    {
     "name": "stderr",
     "output_type": "stream",
     "text": [
      "2021-04-30 17:06:34,121 - INFO     - BEGIN (implicit)\n"
     ]
    },
    {
     "name": "stdout",
     "output_type": "stream",
     "text": [
      "2021-04-30 17:06:34,124 INFO sqlalchemy.engine.Engine \n",
      "CREATE TABLE [BORSalesOrderSumary_Cleaned] (\n",
      "\t[index] BIGINT NULL, \n",
      "\t[Bill_To_CustomerID] VARCHAR(max) NULL, \n",
      "\t[Bill_To_CustomerName] VARCHAR(max) NULL, \n",
      "\t[Bill_To_Address_1] VARCHAR(max) NULL, \n",
      "\t[Bill_To_Address_2] VARCHAR(max) NULL, \n",
      "\t[Bill_To_City] VARCHAR(max) NULL, \n",
      "\t[Bill_To_State] VARCHAR(max) NULL, \n",
      "\t[Bill_To_ZipCode] VARCHAR(max) NULL, \n",
      "\t[Customer_Category] VARCHAR(max) NULL, \n",
      "\t[OrderNumber] VARCHAR(max) NULL, \n",
      "\t[Customer_PO_Number] VARCHAR(max) NULL, \n",
      "\t[OrderDate] DATETIME NULL, \n",
      "\t[Rep_ID] VARCHAR(max) NULL, \n",
      "\t[Facility_ID] VARCHAR(max) NULL, \n",
      "\t[Ship_To_CustomerName] VARCHAR(max) NULL, \n",
      "\t[Ship_To_Address_1] VARCHAR(max) NULL, \n",
      "\t[Ship_To_Address_2] VARCHAR(max) NULL, \n",
      "\t[Ship_To_City] VARCHAR(max) NULL, \n",
      "\t[Ship_To_State] VARCHAR(max) NULL, \n",
      "\t[Ship_To_Zipcode] VARCHAR(max) NULL, \n",
      "\t[Ship_To_Country] VARCHAR(max) NULL, \n",
      "\t[Price_List] VARCHAR(max) NULL, \n",
      "\t[Order_Status] VARCHAR(max) NULL, \n",
      "\t[PartNumber] VARCHAR(max) NULL, \n",
      "\t[Part_Description] VARCHAR(max) NULL, \n",
      "\t[UOM] VARCHAR(max) NULL, \n",
      "\t[OrderQty] FLOAT(53) NULL, \n",
      "\t[UnitPrice] FLOAT(53) NULL, \n",
      "\t[SubTotal] FLOAT(53) NULL, \n",
      "\t[Product_Line] VARCHAR(max) NULL, \n",
      "\t[TerrRep] VARCHAR(max) NULL, \n",
      "\t[Terr3zip] VARCHAR(max) NULL, \n",
      "\t[CostConversion] FLOAT(53) NULL, \n",
      "\t[SynRepID] FLOAT(53) NULL, \n",
      "\t[RepName] VARCHAR(max) NULL, \n",
      "\t[RepManager] FLOAT(53) NULL, \n",
      "\t[RepClinicalSpecialist] VARCHAR(max) NULL, \n",
      "\t[RepSalesAdmin] VARCHAR(max) NULL, \n",
      "\t[RepInsideSalesAssistant] FLOAT(53) NULL, \n",
      "\t[Q3_ProdGoalCategory] VARCHAR(max) NULL, \n",
      "\t[RegionalManager] VARCHAR(max) NULL, \n",
      "\t[REPSTATUS] VARCHAR(max) NULL, \n",
      "\t[UDFKEY_23] VARCHAR(max) NULL, \n",
      "\t[GPO_Member_ID] VARCHAR(max) NULL, \n",
      "\t[Bill_To_Country] VARCHAR(max) NULL, \n",
      "\t[TransactionType] VARCHAR(max) NULL, \n",
      "\t[Quater] VARCHAR(max) NULL, \n",
      "\t[Q2_ProdGoalCategory] VARCHAR(max) NULL, \n",
      "\t[Q1_ProdGoalCategory] VARCHAR(max) NULL, \n",
      "\t[IDN] VARCHAR(max) NULL, \n",
      "\t[POConfirmEmail] VARCHAR(max) NULL, \n",
      "\t[POConfirmEmailError] VARCHAR(max) NULL, \n",
      "\t[Hospital_Type] VARCHAR(max) NULL, \n",
      "\t[Date] DATETIME NULL, \n",
      "\t[OrderDayOfWeek] VARCHAR(max) NULL, \n",
      "\t[OrderYearMonth] BIGINT NULL, \n",
      "\t[Revenue] FLOAT(53) NULL, \n",
      "\t[MinPurchaseDate] DATETIME NULL, \n",
      "\t[MinPurchaseYearMonth] BIGINT NULL, \n",
      "\t[Shipping_Zipcode] VARCHAR(max) NULL, \n",
      "\t[UserType] VARCHAR(max) NULL\n",
      ")\n",
      "\n",
      "\n"
     ]
    },
    {
     "name": "stderr",
     "output_type": "stream",
     "text": [
      "2021-04-30 17:06:34,124 - INFO     - \n",
      "CREATE TABLE [BORSalesOrderSumary_Cleaned] (\n",
      "\t[index] BIGINT NULL, \n",
      "\t[Bill_To_CustomerID] VARCHAR(max) NULL, \n",
      "\t[Bill_To_CustomerName] VARCHAR(max) NULL, \n",
      "\t[Bill_To_Address_1] VARCHAR(max) NULL, \n",
      "\t[Bill_To_Address_2] VARCHAR(max) NULL, \n",
      "\t[Bill_To_City] VARCHAR(max) NULL, \n",
      "\t[Bill_To_State] VARCHAR(max) NULL, \n",
      "\t[Bill_To_ZipCode] VARCHAR(max) NULL, \n",
      "\t[Customer_Category] VARCHAR(max) NULL, \n",
      "\t[OrderNumber] VARCHAR(max) NULL, \n",
      "\t[Customer_PO_Number] VARCHAR(max) NULL, \n",
      "\t[OrderDate] DATETIME NULL, \n",
      "\t[Rep_ID] VARCHAR(max) NULL, \n",
      "\t[Facility_ID] VARCHAR(max) NULL, \n",
      "\t[Ship_To_CustomerName] VARCHAR(max) NULL, \n",
      "\t[Ship_To_Address_1] VARCHAR(max) NULL, \n",
      "\t[Ship_To_Address_2] VARCHAR(max) NULL, \n",
      "\t[Ship_To_City] VARCHAR(max) NULL, \n",
      "\t[Ship_To_State] VARCHAR(max) NULL, \n",
      "\t[Ship_To_Zipcode] VARCHAR(max) NULL, \n",
      "\t[Ship_To_Country] VARCHAR(max) NULL, \n",
      "\t[Price_List] VARCHAR(max) NULL, \n",
      "\t[Order_Status] VARCHAR(max) NULL, \n",
      "\t[PartNumber] VARCHAR(max) NULL, \n",
      "\t[Part_Description] VARCHAR(max) NULL, \n",
      "\t[UOM] VARCHAR(max) NULL, \n",
      "\t[OrderQty] FLOAT(53) NULL, \n",
      "\t[UnitPrice] FLOAT(53) NULL, \n",
      "\t[SubTotal] FLOAT(53) NULL, \n",
      "\t[Product_Line] VARCHAR(max) NULL, \n",
      "\t[TerrRep] VARCHAR(max) NULL, \n",
      "\t[Terr3zip] VARCHAR(max) NULL, \n",
      "\t[CostConversion] FLOAT(53) NULL, \n",
      "\t[SynRepID] FLOAT(53) NULL, \n",
      "\t[RepName] VARCHAR(max) NULL, \n",
      "\t[RepManager] FLOAT(53) NULL, \n",
      "\t[RepClinicalSpecialist] VARCHAR(max) NULL, \n",
      "\t[RepSalesAdmin] VARCHAR(max) NULL, \n",
      "\t[RepInsideSalesAssistant] FLOAT(53) NULL, \n",
      "\t[Q3_ProdGoalCategory] VARCHAR(max) NULL, \n",
      "\t[RegionalManager] VARCHAR(max) NULL, \n",
      "\t[REPSTATUS] VARCHAR(max) NULL, \n",
      "\t[UDFKEY_23] VARCHAR(max) NULL, \n",
      "\t[GPO_Member_ID] VARCHAR(max) NULL, \n",
      "\t[Bill_To_Country] VARCHAR(max) NULL, \n",
      "\t[TransactionType] VARCHAR(max) NULL, \n",
      "\t[Quater] VARCHAR(max) NULL, \n",
      "\t[Q2_ProdGoalCategory] VARCHAR(max) NULL, \n",
      "\t[Q1_ProdGoalCategory] VARCHAR(max) NULL, \n",
      "\t[IDN] VARCHAR(max) NULL, \n",
      "\t[POConfirmEmail] VARCHAR(max) NULL, \n",
      "\t[POConfirmEmailError] VARCHAR(max) NULL, \n",
      "\t[Hospital_Type] VARCHAR(max) NULL, \n",
      "\t[Date] DATETIME NULL, \n",
      "\t[OrderDayOfWeek] VARCHAR(max) NULL, \n",
      "\t[OrderYearMonth] BIGINT NULL, \n",
      "\t[Revenue] FLOAT(53) NULL, \n",
      "\t[MinPurchaseDate] DATETIME NULL, \n",
      "\t[MinPurchaseYearMonth] BIGINT NULL, \n",
      "\t[Shipping_Zipcode] VARCHAR(max) NULL, \n",
      "\t[UserType] VARCHAR(max) NULL\n",
      ")\n",
      "\n",
      "\n"
     ]
    },
    {
     "name": "stdout",
     "output_type": "stream",
     "text": [
      "2021-04-30 17:06:34,125 INFO sqlalchemy.engine.Engine [no key 0.00105s] ()\n"
     ]
    },
    {
     "name": "stderr",
     "output_type": "stream",
     "text": [
      "2021-04-30 17:06:34,125 - INFO     - [no key 0.00105s] ()\n"
     ]
    },
    {
     "name": "stdout",
     "output_type": "stream",
     "text": [
      "2021-04-30 17:06:34,149 INFO sqlalchemy.engine.Engine CREATE INDEX [ix_BORSalesOrderSumary_Cleaned_index] ON [BORSalesOrderSumary_Cleaned] ([index])\n"
     ]
    },
    {
     "name": "stderr",
     "output_type": "stream",
     "text": [
      "2021-04-30 17:06:34,149 - INFO     - CREATE INDEX [ix_BORSalesOrderSumary_Cleaned_index] ON [BORSalesOrderSumary_Cleaned] ([index])\n"
     ]
    },
    {
     "name": "stdout",
     "output_type": "stream",
     "text": [
      "2021-04-30 17:06:34,150 INFO sqlalchemy.engine.Engine [no key 0.00104s] ()\n"
     ]
    },
    {
     "name": "stderr",
     "output_type": "stream",
     "text": [
      "2021-04-30 17:06:34,150 - INFO     - [no key 0.00104s] ()\n"
     ]
    },
    {
     "name": "stdout",
     "output_type": "stream",
     "text": [
      "2021-04-30 17:06:34,169 INFO sqlalchemy.engine.Engine COMMIT\n"
     ]
    },
    {
     "name": "stderr",
     "output_type": "stream",
     "text": [
      "2021-04-30 17:06:34,169 - INFO     - COMMIT\n"
     ]
    },
    {
     "name": "stdout",
     "output_type": "stream",
     "text": [
      "2021-04-30 17:06:34,478 INFO sqlalchemy.engine.Engine BEGIN (implicit)\n"
     ]
    },
    {
     "name": "stderr",
     "output_type": "stream",
     "text": [
      "2021-04-30 17:06:34,478 - INFO     - BEGIN (implicit)\n"
     ]
    },
    {
     "name": "stdout",
     "output_type": "stream",
     "text": [
      "2021-04-30 17:06:36,209 INFO sqlalchemy.engine.Engine INSERT INTO [BORSalesOrderSumary_Cleaned] ([index], [Bill_To_CustomerID], [Bill_To_CustomerName], [Bill_To_Address_1], [Bill_To_Address_2], [Bill_To_City], [Bill_To_State], [Bill_To_ZipCode], [Customer_Category], [OrderNumber], [Customer_PO_Number], [OrderDate], [Rep_ID], [Facility_ID], [Ship_To_CustomerName], [Ship_To_Address_1], [Ship_To_Address_2], [Ship_To_City], [Ship_To_State], [Ship_To_Zipcode], [Ship_To_Country], [Price_List], [Order_Status], [PartNumber], [Part_Description], [UOM], [OrderQty], [UnitPrice], [SubTotal], [Product_Line], [TerrRep], [Terr3zip], [CostConversion], [SynRepID], [RepName], [RepManager], [RepClinicalSpecialist], [RepSalesAdmin], [RepInsideSalesAssistant], [Q3_ProdGoalCategory], [RegionalManager], [REPSTATUS], [UDFKEY_23], [GPO_Member_ID], [Bill_To_Country], [TransactionType], [Quater], [Q2_ProdGoalCategory], [Q1_ProdGoalCategory], [IDN], [POConfirmEmail], [POConfirmEmailError], [Hospital_Type], [Date], [OrderDayOfWeek], [OrderYearMonth], [Revenue], [MinPurchaseDate], [MinPurchaseYearMonth], [Shipping_Zipcode], [UserType]) VALUES (?, ?, ?, ?, ?, ?, ?, ?, ?, ?, ?, ?, ?, ?, ?, ?, ?, ?, ?, ?, ?, ?, ?, ?, ?, ?, ?, ?, ?, ?, ?, ?, ?, ?, ?, ?, ?, ?, ?, ?, ?, ?, ?, ?, ?, ?, ?, ?, ?, ?, ?, ?, ?, ?, ?, ?, ?, ?, ?, ?, ?)\n"
     ]
    },
    {
     "name": "stderr",
     "output_type": "stream",
     "text": [
      "2021-04-30 17:06:36,209 - INFO     - INSERT INTO [BORSalesOrderSumary_Cleaned] ([index], [Bill_To_CustomerID], [Bill_To_CustomerName], [Bill_To_Address_1], [Bill_To_Address_2], [Bill_To_City], [Bill_To_State], [Bill_To_ZipCode], [Customer_Category], [OrderNumber], [Customer_PO_Number], [OrderDate], [Rep_ID], [Facility_ID], [Ship_To_CustomerName], [Ship_To_Address_1], [Ship_To_Address_2], [Ship_To_City], [Ship_To_State], [Ship_To_Zipcode], [Ship_To_Country], [Price_List], [Order_Status], [PartNumber], [Part_Description], [UOM], [OrderQty], [UnitPrice], [SubTotal], [Product_Line], [TerrRep], [Terr3zip], [CostConversion], [SynRepID], [RepName], [RepManager], [RepClinicalSpecialist], [RepSalesAdmin], [RepInsideSalesAssistant], [Q3_ProdGoalCategory], [RegionalManager], [REPSTATUS], [UDFKEY_23], [GPO_Member_ID], [Bill_To_Country], [TransactionType], [Quater], [Q2_ProdGoalCategory], [Q1_ProdGoalCategory], [IDN], [POConfirmEmail], [POConfirmEmailError], [Hospital_Type], [Date], [OrderDayOfWeek], [OrderYearMonth], [Revenue], [MinPurchaseDate], [MinPurchaseYearMonth], [Shipping_Zipcode], [UserType]) VALUES (?, ?, ?, ?, ?, ?, ?, ?, ?, ?, ?, ?, ?, ?, ?, ?, ?, ?, ?, ?, ?, ?, ?, ?, ?, ?, ?, ?, ?, ?, ?, ?, ?, ?, ?, ?, ?, ?, ?, ?, ?, ?, ?, ?, ?, ?, ?, ?, ?, ?, ?, ?, ?, ?, ?, ?, ?, ?, ?, ?, ?)\n"
     ]
    },
    {
     "name": "stdout",
     "output_type": "stream",
     "text": [
      "2021-04-30 17:06:36,210 INFO sqlalchemy.engine.Engine [generated in 1.43848s] ((0, 'BLZ0930', 'Hoag  Memorial Hospital Presbyterian', 'P.O. Box 31380', 'Attn:Accounts Payable', 'Salt Lake', 'UT', '84131', 'Premier', '20133302', '1438225', datetime.datetime(2018, 5, 8, 0, 0), 'RC509', 'Z9266301', 'Hoag Hospital', 'One Hoag Dr', None, 'Newport beach', 'CA', '92663', 'USA', 'P4A', '4', 'SCF02', 'DISPOSABLE NON-WOVEN FILTERS  7.5\"DIA. (1000 PK', 'PK', 8.0, 54.0, 432.0, 'Disposables', '556', '926', 1.0, 509.0, 'Rico Catalusci', 1.0, '290', '499', 999.0, None, '441', 'I', 'Z9266301', '1 HOS - PPA', 'US', 'CU', 'Q2', None, None, None, 'kally.gale@hoag.org', 'NoError', 'Hospital', datetime.datetime(2018, 5, 1, 0, 0), 'Tues', 201805, 432.0, datetime.datetime(2018, 4, 29, 0, 0), 201804, '92663', 'Existing'), (1, 'BLZ0930', 'Hoag  Memorial Hospital Presbyterian', 'P.O. Box 31380', 'Attn:Accounts Payable', 'Salt Lake', 'UT', '84131', 'Premier', '20133485', 'APRIL 2018', datetime.datetime(2018, 4, 29, 0, 0), 'TL272', 'Z9266301', 'Hoag Hospital', 'One Hoag Drive', 'NULL', 'Newport Beach', 'CA', '92663', 'USA', 'P4A', '4', 'CSR012', 'INK TAPE REMOVER', 'EA', 1.0, 64.48, 64.48, 'Solutions', '556', '926', 1.0, 272.0, 'Troy Lagasca', 1.0, '290', '499', 999.0, None, '441', 'I', 'Z9266301', '1 HOS - PPA', 'US', 'CU', 'Q2', 'InkAdhesive', 'InkAdhesive', None, 'sborade@casemed.com', 'NoError', 'Hospital', datetime.datetime(2018, 4, 1, 0, 0), 'Sun', 201804, 64.48, datetime.datetime(2018, 4, 29, 0, 0), 201804, '92663', 'New'), (2, 'BLZ0930', 'Hoag  Memorial Hospital Presbyterian', 'P.O. Box 31380', 'Attn:Accounts Payable', 'Salt Lake', 'UT', '84131', 'Premier', '20133882', '1440223', datetime.datetime(2018, 5, 24, 0, 0), 'RC509', 'Z9266301', 'Hoag Hospital', 'One Hoag Drive', 'NULL', 'Newport Beach', 'CA', '92663', 'USA', 'P4A', '4', 'SCF02', 'DISPOSABLE NON-WOVEN FILTERS  7.5\"DIA. (1000 PK', 'PK', 2.0, 54.0, 108.0, 'Disposables', '556', '926', 1.0, 509.0, 'Rico Catalusci', 1.0, '290', '499', 999.0, None, '441', 'I', 'Z9266301', '1 HOS - PPA', 'US', 'CU', 'Q2', None, None, None, 'victor.nevarez@hoag.org', 'NoError', 'Hospital', datetime.datetime(2018, 5, 1, 0, 0), 'Thurs', 201805, 108.0, datetime.datetime(2018, 4, 29, 0, 0), 201804, '92663', 'Existing'), (3, 'BLZ0930', 'Hoag  Memorial Hospital Presbyterian', 'P.O. Box 31380', 'Attn:Accounts Payable', 'Salt Lake', 'UT', '84131', 'Premier', '20134172', '1441317', datetime.datetime(2018, 6, 5, 0, 0), 'TL272', 'Z9266301', 'Hoag Hospital', 'One Hoag Drive', 'NULL', 'Newport Beach', 'CA', '92663', 'USA', 'P4A', '4', 'SCF02', 'DISPOSABLE NON-WOVEN FILTERS  7.5\"DIA. (1000 PK', 'PK', 8.0, 54.0, 432.0, 'Disposables', '556', '926', 1.0, 272.0, 'Troy Lagasca', 1.0, '290', '499', 999.0, None, '441', 'I', 'Z9266301', '1 HOS - PPA', 'US', 'CU', 'Q2', None, None, None, 'kally.gale@hoag.org; linda.miller@hoag.org', 'NoError', 'Hospital', datetime.datetime(2018, 6, 1, 0, 0), 'Tues', 201806, 432.0, datetime.datetime(2018, 4, 29, 0, 0), 201804, '92663', 'Existing'), (4, 'BLZ0930', 'Hoag  Memorial Hospital Presbyterian', 'P.O. Box 31380', 'Attn:Accounts Payable', 'Salt Lake', 'UT', '84131', 'Premier', '20134217', '1441424', datetime.datetime(2018, 6, 5, 0, 0), 'TL272', 'Z9266301', 'Hoag Hospital', 'One Hoag Drive', 'NULL', 'Newport Beach', 'CA', '92663', 'USA', 'P4A', '4', 'BES17110', 'BACKBONE SILICONE BRACKET SINGLE SLOT', 'PK', 4.0, 87.1, 348.4, 'Containers', '556', '926', 1.0, 272.0, 'Troy Lagasca', 1.0, '290', '499', 999.0, None, '441', 'I', 'Z9266301', '1 HOS - PPA', 'US', 'CU', 'Q2', None, None, None, 'victor.nevarez@hoag.org', 'NoError', 'Hospital', datetime.datetime(2018, 6, 1, 0, 0), 'Tues', 201806, 348.4, datetime.datetime(2018, 4, 29, 0, 0), 201804, '92663', 'Existing'), (5, 'BLZ0930', 'Hoag  Memorial Hospital Presbyterian', 'P.O. Box 31380', 'Attn:Accounts Payable', 'Salt Lake', 'UT', '84131', 'Premier', '20134343', '1441809', datetime.datetime(2018, 6, 8, 0, 0), 'TL272', 'Z9266301', 'Hoag Hospital', 'One Hoag Drive', 'NULL', 'Newport Beach', 'CA', '92663', 'USA', 'P4A', '4', 'SCL02', 'LOAD CARDS SMALL (STEAM/ETO) (1000 PK)', 'PK', 2.0, 56.17, 112.34, 'Disposables', '556', '926', 1.0, 272.0, 'Troy Lagasca', 1.0, '290', '499', 999.0, None, '441', 'I', 'Z9266301', '1 HOS - PPA', 'US', 'CU', 'Q2', None, None, None, 'victor.nevarez@hoag.org', 'NoError', 'Hospital', datetime.datetime(2018, 6, 1, 0, 0), 'Fri', 201806, 112.34, datetime.datetime(2018, 4, 29, 0, 0), 201804, '92663', 'Existing'), (6, 'BLZ0930', 'Hoag  Memorial Hospital Presbyterian', 'P.O. Box 31380', 'Attn:Accounts Payable', 'Salt Lake', 'UT', '84131', 'Premier', '20134343', '1441809', datetime.datetime(2018, 6, 8, 0, 0), 'TL272', 'Z9266301', 'Hoag Hospital', 'One Hoag Drive', 'NULL', 'Newport Beach', 'CA', '92663', 'USA', 'P4A', '4', 'SCFM02', 'DISPOSABLE NON-WOVEN FILTERS  10\"x4\" (1000 PK)', 'PK', 2.0, 41.05, 82.1, 'Disposables', '556', '926', 1.0, 272.0, 'Troy Lagasca', 1.0, '290', '499', 999.0, None, '441', 'I', 'Z9266301', '1 HOS - PPA', 'US', 'CU', 'Q2', None, None, None, 'victor.nevarez@hoag.org', 'NoError', 'Hospital', datetime.datetime(2018, 6, 1, 0, 0), 'Fri', 201806, 82.1, datetime.datetime(2018, 4, 29, 0, 0), 201804, '92663', 'Existing'), (7, 'BLZ0930', 'Hoag  Memorial Hospital Presbyterian', 'P.O. Box 31380', 'Attn:Accounts Payable', 'Salt Lake', 'UT', '84131', 'Premier', '20134746', '1442910', datetime.datetime(2018, 6, 20, 0, 0), 'TL272', 'Z9266301', 'Hoag Hospital', 'One Hoag Drive', 'NULL', 'Newport Beach', 'CA', '92663', 'USA', 'P41', '4', 'SCL02', 'LOAD CARDS SMALL (STEAM/ETO) (1000 PK)', 'PK', 2.0, 56.17, 112.34, 'Disposables', '556', '926', 1.0, 272.0, 'Troy Lagasca', 1.0, '290', '499', 999.0, None, '441', 'I', 'Z9266301', '1 HOS - PPA', 'US', 'CU', 'Q2', None, None, None, 'victor.nevarez@hoag.org', 'NoError', 'Hospital', datetime.datetime(2018, 6, 1, 0, 0), 'Wed', 201806, 112.34, datetime.datetime(2018, 4, 29, 0, 0), 201804, '92663', 'Existing')  ... displaying 10 of 44378 total bound parameter sets ...  (44376, 'BLZ2406', 'Tx Orthopedic Hospital', 'PO Box 5010', 'Attn: Accounts Payable', 'Sugar Land', 'TX', '77487', 'HealthTrust', '20167618', '461947', datetime.datetime(2021, 3, 31, 0, 0), 'DH441', 'Z7703015', 'Tx Orthopedic Hospital', '7401 Main St', 'Attn: Receiving Department', 'Houston', 'TX', '77030', 'USA', None, '4', 'BSKW04', 'BASKET WIDE-SIZE (24.8\"X14.9\"X4\")', 'EA', 4.0, 112.0, 448.0, 'Containers', '441', '770', 1.0, 441.0, 'David Heckman', 5.0, None, None, 0.0, None, '5', 'A', 'Z7703015', '1 - HOS - HPG', 'US', 'CU', 'Q1', None, None, None, 'DEBRA.NOBLES@HEALTHTRUSTPG.COM', 'NoError', 'Hospital', datetime.datetime(2021, 3, 1, 0, 0), 'Wed', 202103, 448.0, datetime.datetime(2021, 3, 31, 0, 0), 202103, '77030', 'New'), (44377, 'BLZ2406', 'Tx Orthopedic Hospital', 'PO Box 5010', 'Attn: Accounts Payable', 'Sugar Land', 'TX', '77487', 'HealthTrust', '20167618', '461947', datetime.datetime(2021, 3, 31, 0, 0), 'DH441', 'Z7703015', 'Tx Orthopedic Hospital', '7401 Main St', 'Attn: Receiving Department', 'Houston', 'TX', '77030', 'USA', None, '4', 'SCPLQ3K', 'ID PLAQUE BLACK', 'EA', 8.0, 5.94, 47.52, 'Containers', '441', '770', 1.0, 441.0, 'David Heckman', 5.0, None, None, 0.0, None, '5', 'A', 'Z7703015', '1 - HOS - HPG', 'US', 'CU', 'Q1', None, None, None, 'DEBRA.NOBLES@HEALTHTRUSTPG.COM', 'NoError', 'Hospital', datetime.datetime(2021, 3, 1, 0, 0), 'Wed', 202103, 47.52, datetime.datetime(2021, 3, 31, 0, 0), 202103, '77030', 'New'))\n"
     ]
    },
    {
     "name": "stderr",
     "output_type": "stream",
     "text": [
      "2021-04-30 17:06:36,210 - INFO     - [generated in 1.43848s] ((0, 'BLZ0930', 'Hoag  Memorial Hospital Presbyterian', 'P.O. Box 31380', 'Attn:Accounts Payable', 'Salt Lake', 'UT', '84131', 'Premier', '20133302', '1438225', datetime.datetime(2018, 5, 8, 0, 0), 'RC509', 'Z9266301', 'Hoag Hospital', 'One Hoag Dr', None, 'Newport beach', 'CA', '92663', 'USA', 'P4A', '4', 'SCF02', 'DISPOSABLE NON-WOVEN FILTERS  7.5\"DIA. (1000 PK', 'PK', 8.0, 54.0, 432.0, 'Disposables', '556', '926', 1.0, 509.0, 'Rico Catalusci', 1.0, '290', '499', 999.0, None, '441', 'I', 'Z9266301', '1 HOS - PPA', 'US', 'CU', 'Q2', None, None, None, 'kally.gale@hoag.org', 'NoError', 'Hospital', datetime.datetime(2018, 5, 1, 0, 0), 'Tues', 201805, 432.0, datetime.datetime(2018, 4, 29, 0, 0), 201804, '92663', 'Existing'), (1, 'BLZ0930', 'Hoag  Memorial Hospital Presbyterian', 'P.O. Box 31380', 'Attn:Accounts Payable', 'Salt Lake', 'UT', '84131', 'Premier', '20133485', 'APRIL 2018', datetime.datetime(2018, 4, 29, 0, 0), 'TL272', 'Z9266301', 'Hoag Hospital', 'One Hoag Drive', 'NULL', 'Newport Beach', 'CA', '92663', 'USA', 'P4A', '4', 'CSR012', 'INK TAPE REMOVER', 'EA', 1.0, 64.48, 64.48, 'Solutions', '556', '926', 1.0, 272.0, 'Troy Lagasca', 1.0, '290', '499', 999.0, None, '441', 'I', 'Z9266301', '1 HOS - PPA', 'US', 'CU', 'Q2', 'InkAdhesive', 'InkAdhesive', None, 'sborade@casemed.com', 'NoError', 'Hospital', datetime.datetime(2018, 4, 1, 0, 0), 'Sun', 201804, 64.48, datetime.datetime(2018, 4, 29, 0, 0), 201804, '92663', 'New'), (2, 'BLZ0930', 'Hoag  Memorial Hospital Presbyterian', 'P.O. Box 31380', 'Attn:Accounts Payable', 'Salt Lake', 'UT', '84131', 'Premier', '20133882', '1440223', datetime.datetime(2018, 5, 24, 0, 0), 'RC509', 'Z9266301', 'Hoag Hospital', 'One Hoag Drive', 'NULL', 'Newport Beach', 'CA', '92663', 'USA', 'P4A', '4', 'SCF02', 'DISPOSABLE NON-WOVEN FILTERS  7.5\"DIA. (1000 PK', 'PK', 2.0, 54.0, 108.0, 'Disposables', '556', '926', 1.0, 509.0, 'Rico Catalusci', 1.0, '290', '499', 999.0, None, '441', 'I', 'Z9266301', '1 HOS - PPA', 'US', 'CU', 'Q2', None, None, None, 'victor.nevarez@hoag.org', 'NoError', 'Hospital', datetime.datetime(2018, 5, 1, 0, 0), 'Thurs', 201805, 108.0, datetime.datetime(2018, 4, 29, 0, 0), 201804, '92663', 'Existing'), (3, 'BLZ0930', 'Hoag  Memorial Hospital Presbyterian', 'P.O. Box 31380', 'Attn:Accounts Payable', 'Salt Lake', 'UT', '84131', 'Premier', '20134172', '1441317', datetime.datetime(2018, 6, 5, 0, 0), 'TL272', 'Z9266301', 'Hoag Hospital', 'One Hoag Drive', 'NULL', 'Newport Beach', 'CA', '92663', 'USA', 'P4A', '4', 'SCF02', 'DISPOSABLE NON-WOVEN FILTERS  7.5\"DIA. (1000 PK', 'PK', 8.0, 54.0, 432.0, 'Disposables', '556', '926', 1.0, 272.0, 'Troy Lagasca', 1.0, '290', '499', 999.0, None, '441', 'I', 'Z9266301', '1 HOS - PPA', 'US', 'CU', 'Q2', None, None, None, 'kally.gale@hoag.org; linda.miller@hoag.org', 'NoError', 'Hospital', datetime.datetime(2018, 6, 1, 0, 0), 'Tues', 201806, 432.0, datetime.datetime(2018, 4, 29, 0, 0), 201804, '92663', 'Existing'), (4, 'BLZ0930', 'Hoag  Memorial Hospital Presbyterian', 'P.O. Box 31380', 'Attn:Accounts Payable', 'Salt Lake', 'UT', '84131', 'Premier', '20134217', '1441424', datetime.datetime(2018, 6, 5, 0, 0), 'TL272', 'Z9266301', 'Hoag Hospital', 'One Hoag Drive', 'NULL', 'Newport Beach', 'CA', '92663', 'USA', 'P4A', '4', 'BES17110', 'BACKBONE SILICONE BRACKET SINGLE SLOT', 'PK', 4.0, 87.1, 348.4, 'Containers', '556', '926', 1.0, 272.0, 'Troy Lagasca', 1.0, '290', '499', 999.0, None, '441', 'I', 'Z9266301', '1 HOS - PPA', 'US', 'CU', 'Q2', None, None, None, 'victor.nevarez@hoag.org', 'NoError', 'Hospital', datetime.datetime(2018, 6, 1, 0, 0), 'Tues', 201806, 348.4, datetime.datetime(2018, 4, 29, 0, 0), 201804, '92663', 'Existing'), (5, 'BLZ0930', 'Hoag  Memorial Hospital Presbyterian', 'P.O. Box 31380', 'Attn:Accounts Payable', 'Salt Lake', 'UT', '84131', 'Premier', '20134343', '1441809', datetime.datetime(2018, 6, 8, 0, 0), 'TL272', 'Z9266301', 'Hoag Hospital', 'One Hoag Drive', 'NULL', 'Newport Beach', 'CA', '92663', 'USA', 'P4A', '4', 'SCL02', 'LOAD CARDS SMALL (STEAM/ETO) (1000 PK)', 'PK', 2.0, 56.17, 112.34, 'Disposables', '556', '926', 1.0, 272.0, 'Troy Lagasca', 1.0, '290', '499', 999.0, None, '441', 'I', 'Z9266301', '1 HOS - PPA', 'US', 'CU', 'Q2', None, None, None, 'victor.nevarez@hoag.org', 'NoError', 'Hospital', datetime.datetime(2018, 6, 1, 0, 0), 'Fri', 201806, 112.34, datetime.datetime(2018, 4, 29, 0, 0), 201804, '92663', 'Existing'), (6, 'BLZ0930', 'Hoag  Memorial Hospital Presbyterian', 'P.O. Box 31380', 'Attn:Accounts Payable', 'Salt Lake', 'UT', '84131', 'Premier', '20134343', '1441809', datetime.datetime(2018, 6, 8, 0, 0), 'TL272', 'Z9266301', 'Hoag Hospital', 'One Hoag Drive', 'NULL', 'Newport Beach', 'CA', '92663', 'USA', 'P4A', '4', 'SCFM02', 'DISPOSABLE NON-WOVEN FILTERS  10\"x4\" (1000 PK)', 'PK', 2.0, 41.05, 82.1, 'Disposables', '556', '926', 1.0, 272.0, 'Troy Lagasca', 1.0, '290', '499', 999.0, None, '441', 'I', 'Z9266301', '1 HOS - PPA', 'US', 'CU', 'Q2', None, None, None, 'victor.nevarez@hoag.org', 'NoError', 'Hospital', datetime.datetime(2018, 6, 1, 0, 0), 'Fri', 201806, 82.1, datetime.datetime(2018, 4, 29, 0, 0), 201804, '92663', 'Existing'), (7, 'BLZ0930', 'Hoag  Memorial Hospital Presbyterian', 'P.O. Box 31380', 'Attn:Accounts Payable', 'Salt Lake', 'UT', '84131', 'Premier', '20134746', '1442910', datetime.datetime(2018, 6, 20, 0, 0), 'TL272', 'Z9266301', 'Hoag Hospital', 'One Hoag Drive', 'NULL', 'Newport Beach', 'CA', '92663', 'USA', 'P41', '4', 'SCL02', 'LOAD CARDS SMALL (STEAM/ETO) (1000 PK)', 'PK', 2.0, 56.17, 112.34, 'Disposables', '556', '926', 1.0, 272.0, 'Troy Lagasca', 1.0, '290', '499', 999.0, None, '441', 'I', 'Z9266301', '1 HOS - PPA', 'US', 'CU', 'Q2', None, None, None, 'victor.nevarez@hoag.org', 'NoError', 'Hospital', datetime.datetime(2018, 6, 1, 0, 0), 'Wed', 201806, 112.34, datetime.datetime(2018, 4, 29, 0, 0), 201804, '92663', 'Existing')  ... displaying 10 of 44378 total bound parameter sets ...  (44376, 'BLZ2406', 'Tx Orthopedic Hospital', 'PO Box 5010', 'Attn: Accounts Payable', 'Sugar Land', 'TX', '77487', 'HealthTrust', '20167618', '461947', datetime.datetime(2021, 3, 31, 0, 0), 'DH441', 'Z7703015', 'Tx Orthopedic Hospital', '7401 Main St', 'Attn: Receiving Department', 'Houston', 'TX', '77030', 'USA', None, '4', 'BSKW04', 'BASKET WIDE-SIZE (24.8\"X14.9\"X4\")', 'EA', 4.0, 112.0, 448.0, 'Containers', '441', '770', 1.0, 441.0, 'David Heckman', 5.0, None, None, 0.0, None, '5', 'A', 'Z7703015', '1 - HOS - HPG', 'US', 'CU', 'Q1', None, None, None, 'DEBRA.NOBLES@HEALTHTRUSTPG.COM', 'NoError', 'Hospital', datetime.datetime(2021, 3, 1, 0, 0), 'Wed', 202103, 448.0, datetime.datetime(2021, 3, 31, 0, 0), 202103, '77030', 'New'), (44377, 'BLZ2406', 'Tx Orthopedic Hospital', 'PO Box 5010', 'Attn: Accounts Payable', 'Sugar Land', 'TX', '77487', 'HealthTrust', '20167618', '461947', datetime.datetime(2021, 3, 31, 0, 0), 'DH441', 'Z7703015', 'Tx Orthopedic Hospital', '7401 Main St', 'Attn: Receiving Department', 'Houston', 'TX', '77030', 'USA', None, '4', 'SCPLQ3K', 'ID PLAQUE BLACK', 'EA', 8.0, 5.94, 47.52, 'Containers', '441', '770', 1.0, 441.0, 'David Heckman', 5.0, None, None, 0.0, None, '5', 'A', 'Z7703015', '1 - HOS - HPG', 'US', 'CU', 'Q1', None, None, None, 'DEBRA.NOBLES@HEALTHTRUSTPG.COM', 'NoError', 'Hospital', datetime.datetime(2021, 3, 1, 0, 0), 'Wed', 202103, 47.52, datetime.datetime(2021, 3, 31, 0, 0), 202103, '77030', 'New'))\n"
     ]
    },
    {
     "name": "stdout",
     "output_type": "stream",
     "text": [
      "2021-04-30 17:27:54,164 INFO sqlalchemy.engine.Engine COMMIT\n"
     ]
    },
    {
     "name": "stderr",
     "output_type": "stream",
     "text": [
      "2021-04-30 17:27:54,164 - INFO     - COMMIT\n"
     ]
    },
    {
     "name": "stdout",
     "output_type": "stream",
     "text": [
      "2021-04-30 17:27:54,252 INFO sqlalchemy.engine.Engine SELECT [INFORMATION_SCHEMA].[TABLES].[TABLE_NAME] \n",
      "FROM [INFORMATION_SCHEMA].[TABLES] \n",
      "WHERE [INFORMATION_SCHEMA].[TABLES].[TABLE_SCHEMA] = CAST(? AS NVARCHAR(max)) AND [INFORMATION_SCHEMA].[TABLES].[TABLE_TYPE] = CAST(? AS NVARCHAR(max)) ORDER BY [INFORMATION_SCHEMA].[TABLES].[TABLE_NAME]\n"
     ]
    },
    {
     "name": "stderr",
     "output_type": "stream",
     "text": [
      "2021-04-30 17:27:54,252 - INFO     - SELECT [INFORMATION_SCHEMA].[TABLES].[TABLE_NAME] \n",
      "FROM [INFORMATION_SCHEMA].[TABLES] \n",
      "WHERE [INFORMATION_SCHEMA].[TABLES].[TABLE_SCHEMA] = CAST(? AS NVARCHAR(max)) AND [INFORMATION_SCHEMA].[TABLES].[TABLE_TYPE] = CAST(? AS NVARCHAR(max)) ORDER BY [INFORMATION_SCHEMA].[TABLES].[TABLE_NAME]\n"
     ]
    },
    {
     "name": "stdout",
     "output_type": "stream",
     "text": [
      "2021-04-30 17:27:54,252 INFO sqlalchemy.engine.Engine [generated in 0.00132s] ('dbo', 'BASE TABLE')\n"
     ]
    },
    {
     "name": "stderr",
     "output_type": "stream",
     "text": [
      "2021-04-30 17:27:54,252 - INFO     - [generated in 0.00132s] ('dbo', 'BASE TABLE')\n"
     ]
    }
   ],
   "source": [
    "df.to_sql(\"BORSalesOrderSumary_Cleaned\",engine)"
   ]
  },
  {
   "cell_type": "markdown",
   "metadata": {},
   "source": [
    "## ETL Python Script\n",
    "\n",
    "Python script performing the above ETL tasks.\n",
    "\n",
    "Uncomment it to run the script\n"
   ]
  },
  {
   "cell_type": "code",
   "execution_count": null,
   "metadata": {},
   "outputs": [],
   "source": [
    "# import pyodbc\n",
    "# import pandas as pd \n",
    "# import numpy as np\n",
    "\n",
    "# #Creating database connection\n",
    "# connection = pyodbc.connect(\n",
    "#     \"Driver={ODBC Driver 17 for SQL Server}; Server=SQLSERVERTEST;Database=ExactMAXCaseMedical;uid=sa;pwd=Twotbgrar2020!\"\n",
    "#         )\n",
    "# #Custom SQL query to fetch data\n",
    "# sql_query='''\n",
    "# SELECT d.ORDNUM_28,\n",
    "#        d.LINNUM_28,\n",
    "#        d.DELNUM_28,\n",
    "#        d. PRTNUM_28,\n",
    "#        d.CUSTID_28,\n",
    "#        m.CUSTID_27,\n",
    "#        d.CURDUE_28,\n",
    "#        d. PRICE_28,\n",
    "#        d.ORGQTY_28,\n",
    "#        d.CURQTY_28,\n",
    "#        d.CreationDate,\n",
    "#        d.SHPQTY_28,\n",
    "#        d.SLSREP_28,\n",
    "#        m.NAME_27,\n",
    "#        m.ADDR1_27,\n",
    "#        m.ADDR2_27,\n",
    "#        m.CITY_27,\n",
    "#        m.STATE_27,\n",
    "#        m.ZIPCD_27,\n",
    "#        m.CNTRY_27,\n",
    "#        CONCAT(MONTH(d.CreationDate), '-', YEAR(d.CreationDate)) AS Date \n",
    "# FROM [ExactMAXCaseMedical].[dbo].[SO_Detail] d\n",
    "# LEFT JOIN [ExactMAXCaseMedical].[dbo].[SO_Master] m\n",
    "# ON d.ORDNUM_28 = m.ORDNUM_27\n",
    "# WHERE YEAR(d.CreationDate) > 2013; \n",
    "# '''\n",
    "# #loading the data into the dataframe\n",
    "# df= pd.read_sql(sql_query, connection)\n",
    "\n",
    "# #Data Cleaning/Data Transformation\n",
    "\n",
    "# #Removing Leading and Lagging whitespaces from the 'object' type columns\n",
    "# cols= df.select_dtypes(['object']).columns\n",
    "# df[cols]=df[cols].apply(lambda x: x.str.strip())\n",
    "\n",
    "# #Replacing blank values with NaN\n",
    "# df.replace('', np.nan, inplace=True) \n",
    "\n",
    "# #Removing recording having 'PRICE_28'=0\n",
    "# df=df.query('PRICE_28!=0')\n",
    "\n",
    "# #Taking only values having Quantity as a whole number in our data\n",
    "# df=df.loc[df.CURQTY_28%1 == 0].reset_index(drop=True)\n",
    "\n",
    "# #Adding extra features/columns\n",
    "# df['InvoiceDate'] = pd.to_datetime(df['CreationDate'])\n",
    "# df['InvoiceYearMonth'] = df['InvoiceDate'].map(lambda date: 100*date.year + date.month)\n",
    "# df['Revenue'] = df['PRICE_28'] * df['CURQTY_28']\n",
    "# df['Revenue']=df['Revenue'].round(decimals=3)\n",
    "\n",
    "# df=df.drop(['Date','CreationDate'], axis=1)\n",
    "\n",
    "# #Calculating minimum purchase date for each customer\n",
    "# df_min_purchase= df.groupby('CUSTID_28').InvoiceDate.min().reset_index()\n",
    "# df_min_purchase.columns=['CUSTID_28', 'MinPurchaseDate']\n",
    "# df_min_purchase['MinPurchaseYearMonth'] = df_min_purchase['MinPurchaseDate'].map(lambda date: 100*date.year + date.month)\n",
    "\n",
    "# #merge first purchase date column to our main df\n",
    "# df = pd.merge(df, df_min_purchase,on='CUSTID_28')\n",
    "\n",
    "# #Defining USER TYPE- New/Exisitng\n",
    "\n",
    "# df['UserType'] = 'New'\n",
    "# df.loc[df['InvoiceYearMonth']>df['MinPurchaseYearMonth'],'UserType'] = 'Existing'\n",
    "\n",
    "# print(df.shape)\n"
   ]
  },
  {
   "cell_type": "code",
   "execution_count": null,
   "metadata": {},
   "outputs": [],
   "source": []
  },
  {
   "cell_type": "code",
   "execution_count": null,
   "metadata": {},
   "outputs": [],
   "source": []
  },
  {
   "cell_type": "code",
   "execution_count": null,
   "metadata": {},
   "outputs": [],
   "source": []
  },
  {
   "cell_type": "code",
   "execution_count": null,
   "metadata": {},
   "outputs": [],
   "source": []
  },
  {
   "cell_type": "code",
   "execution_count": null,
   "metadata": {},
   "outputs": [],
   "source": []
  },
  {
   "cell_type": "code",
   "execution_count": null,
   "metadata": {},
   "outputs": [],
   "source": []
  },
  {
   "cell_type": "code",
   "execution_count": null,
   "metadata": {},
   "outputs": [],
   "source": []
  }
 ],
 "metadata": {
  "kernelspec": {
   "display_name": "Python 3",
   "language": "python",
   "name": "python3"
  },
  "language_info": {
   "codemirror_mode": {
    "name": "ipython",
    "version": 3
   },
   "file_extension": ".py",
   "mimetype": "text/x-python",
   "name": "python",
   "nbconvert_exporter": "python",
   "pygments_lexer": "ipython3",
   "version": "3.8.5"
  }
 },
 "nbformat": 4,
 "nbformat_minor": 4
}
